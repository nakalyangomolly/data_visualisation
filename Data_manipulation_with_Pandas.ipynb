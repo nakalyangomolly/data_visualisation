{
  "nbformat": 4,
  "nbformat_minor": 0,
  "metadata": {
    "colab": {
      "provenance": [],
      "mount_file_id": "1KajnT7RUf7Ca824QzLpYfuwqegjrLt6C",
      "authorship_tag": "ABX9TyMOyKYLi3+xAyK5BWTMOYQb",
      "include_colab_link": true
    },
    "kernelspec": {
      "name": "python3",
      "display_name": "Python 3"
    },
    "language_info": {
      "name": "python"
    }
  },
  "cells": [
    {
      "cell_type": "markdown",
      "metadata": {
        "id": "view-in-github",
        "colab_type": "text"
      },
      "source": [
        "<a href=\"https://colab.research.google.com/github/nakalyangomolly/data_visualisation/blob/main/Data_manipulation_with_Pandas.ipynb\" target=\"_parent\"><img src=\"https://colab.research.google.com/assets/colab-badge.svg\" alt=\"Open In Colab\"/></a>"
      ]
    },
    {
      "cell_type": "code",
      "execution_count": null,
      "metadata": {
        "id": "o7b6cKKSsBJD"
      },
      "outputs": [],
      "source": [
        "#Importing the pandas library\n",
        "import pandas as pd"
      ]
    },
    {
      "cell_type": "markdown",
      "source": [
        "**Section 1** : TRANSFORMING DATA FRAMES"
      ],
      "metadata": {
        "id": "p-jx92eev1LT"
      }
    },
    {
      "cell_type": "code",
      "source": [
        "from google.colab import drive\n",
        "drive.mount('/content/drive')"
      ],
      "metadata": {
        "colab": {
          "base_uri": "https://localhost:8080/"
        },
        "id": "ZhbT9Pl2sHTz",
        "outputId": "348aa5bc-9bec-482d-be5f-3f2bf201dfe1"
      },
      "execution_count": null,
      "outputs": [
        {
          "output_type": "stream",
          "name": "stdout",
          "text": [
            "Drive already mounted at /content/drive; to attempt to forcibly remount, call drive.mount(\"/content/drive\", force_remount=True).\n"
          ]
        }
      ]
    },
    {
      "cell_type": "code",
      "source": [
        "df = pd.read_excel(\"/content/drive/MyDrive/Datasets/data.xlsv\")\n",
        "print(df.head())"
      ],
      "metadata": {
        "colab": {
          "base_uri": "https://localhost:8080/",
          "height": 182
        },
        "id": "uyu-r8zJsQ26",
        "outputId": "02ee26a6-0c36-4cb8-9e0a-47da3efe647f"
      },
      "execution_count": null,
      "outputs": [
        {
          "output_type": "error",
          "ename": "NameError",
          "evalue": "ignored",
          "traceback": [
            "\u001b[0;31m---------------------------------------------------------------------------\u001b[0m",
            "\u001b[0;31mNameError\u001b[0m                                 Traceback (most recent call last)",
            "\u001b[0;32m<ipython-input-1-1ad738c89fee>\u001b[0m in \u001b[0;36m<module>\u001b[0;34m\u001b[0m\n\u001b[0;32m----> 1\u001b[0;31m \u001b[0mdf\u001b[0m \u001b[0;34m=\u001b[0m \u001b[0mpd\u001b[0m\u001b[0;34m.\u001b[0m\u001b[0mread_excel\u001b[0m\u001b[0;34m(\u001b[0m\u001b[0;34m\"/content/drive/MyDrive/Datasets/data.xlsv\"\u001b[0m\u001b[0;34m)\u001b[0m\u001b[0;34m\u001b[0m\u001b[0;34m\u001b[0m\u001b[0m\n\u001b[0m\u001b[1;32m      2\u001b[0m \u001b[0mprint\u001b[0m\u001b[0;34m(\u001b[0m\u001b[0mdf\u001b[0m\u001b[0;34m.\u001b[0m\u001b[0mhead\u001b[0m\u001b[0;34m(\u001b[0m\u001b[0;34m)\u001b[0m\u001b[0;34m)\u001b[0m\u001b[0;34m\u001b[0m\u001b[0;34m\u001b[0m\u001b[0m\n",
            "\u001b[0;31mNameError\u001b[0m: name 'pd' is not defined"
          ]
        }
      ]
    },
    {
      "cell_type": "code",
      "source": [
        "# Print the shape of data\n",
        "print(df.shape)"
      ],
      "metadata": {
        "colab": {
          "base_uri": "https://localhost:8080/"
        },
        "id": "kr8EZNlatXWS",
        "outputId": "54c8cbf4-4105-4999-de92-69ec0cb3ffb4"
      },
      "execution_count": null,
      "outputs": [
        {
          "output_type": "stream",
          "name": "stdout",
          "text": [
            "(23489, 14)\n"
          ]
        }
      ]
    },
    {
      "cell_type": "code",
      "source": [
        "# Print information about dataset\n",
        "print(df.info())"
      ],
      "metadata": {
        "colab": {
          "base_uri": "https://localhost:8080/"
        },
        "id": "TD7PKhT2tnjF",
        "outputId": "0a664710-900a-47fe-9bb0-39bc917c32fa"
      },
      "execution_count": null,
      "outputs": [
        {
          "output_type": "stream",
          "name": "stdout",
          "text": [
            "<class 'pandas.core.frame.DataFrame'>\n",
            "RangeIndex: 23489 entries, 0 to 23488\n",
            "Data columns (total 14 columns):\n",
            " #   Column                Non-Null Count  Dtype  \n",
            "---  ------                --------------  -----  \n",
            " 0   id                    23489 non-null  float64\n",
            " 1   department            23489 non-null  object \n",
            " 2   region                23489 non-null  object \n",
            " 3   education             22456 non-null  object \n",
            " 4   gender                23489 non-null  object \n",
            " 5   recruitment_channel   23489 non-null  object \n",
            " 6   No. of Training       23488 non-null  float64\n",
            " 7   age                   23489 non-null  float64\n",
            " 8   previous_year_rating  21677 non-null  float64\n",
            " 9   length_of_service     23489 non-null  float64\n",
            " 10  KPIs_met >80%         23489 non-null  float64\n",
            " 11  awards_won?           23489 non-null  float64\n",
            " 12  avg_training_score    23488 non-null  float64\n",
            " 13  FT/PT                 23489 non-null  object \n",
            "dtypes: float64(8), object(6)\n",
            "memory usage: 2.5+ MB\n",
            "None\n"
          ]
        }
      ]
    },
    {
      "cell_type": "code",
      "source": [
        "# Print description about  dataset\n",
        "print(df.describe())"
      ],
      "metadata": {
        "colab": {
          "base_uri": "https://localhost:8080/"
        },
        "id": "d6TZ-NkPtrwj",
        "outputId": "7fbbd90a-12fc-4276-9f51-0ae147c09ab5"
      },
      "execution_count": null,
      "outputs": [
        {
          "output_type": "stream",
          "name": "stdout",
          "text": [
            "                 id  No. of Training           age  previous_year_rating  \\\n",
            "count  23489.000000     23488.000000  23489.000000          21677.000000   \n",
            "mean   39042.169956         1.254252     34.783489              3.339983   \n",
            "std    22636.789630         0.600849      7.678091              1.263436   \n",
            "min        3.000000         1.000000     20.000000              1.000000   \n",
            "25%    19375.000000         1.000000     29.000000              3.000000   \n",
            "50%    39001.000000         1.000000     33.000000              3.000000   \n",
            "75%    58669.000000         1.000000     39.000000              4.000000   \n",
            "max    78295.000000         9.000000     60.000000              5.218045   \n",
            "\n",
            "       length_of_service  KPIs_met >80%   awards_won?  avg_training_score  \n",
            "count       23489.000000   23489.000000  23489.000000        23488.000000  \n",
            "mean            5.810838       0.358907      0.022795           63.262034  \n",
            "std             4.207056       0.479561      0.149193           13.408159  \n",
            "min             1.000000       0.000000      0.000000           39.000000  \n",
            "25%             3.000000       0.000000      0.000000           51.000000  \n",
            "50%             5.000000       0.000000      0.000000           60.000000  \n",
            "75%             7.000000       1.000000      0.000000           76.000000  \n",
            "max            34.000000       1.000000      1.000000           99.000000  \n"
          ]
        }
      ]
    },
    {
      "cell_type": "markdown",
      "source": [
        "To better understand DataFrame objects, it's useful to know that they consist of three components, stored as attributes:\n",
        "\n",
        ".values: A two-dimensional NumPy array of values.\n",
        ".columns: An index of columns: the column names.\n",
        ".index: An index for the rows: either row numbers or row names."
      ],
      "metadata": {
        "id": "jekPOmJduFKZ"
      }
    },
    {
      "cell_type": "code",
      "source": [
        "# Print the values of  dataset\n",
        "print(df.values)"
      ],
      "metadata": {
        "colab": {
          "base_uri": "https://localhost:8080/"
        },
        "id": "qFblMyVGuKRh",
        "outputId": "13e4f179-934b-4e6c-d755-5d9774b3bed8"
      },
      "execution_count": null,
      "outputs": [
        {
          "output_type": "stream",
          "name": "stdout",
          "text": [
            "[[8724.0 'Technology' 'region_26' ... 0.0 77.0 'FT']\n",
            " [74430.0 'HR' 'region_4' ... 0.0 51.0 'FT']\n",
            " [72255.0 'Sales & Marketing' 'region_13' ... 0.0 47.0 'FT']\n",
            " ...\n",
            " [45409.0 'HR' 'region_16' ... 0.0 50.0 'PT']\n",
            " [1186.0 'Procurement' 'region_31' ... 0.0 70.0 'PT']\n",
            " [5973.0 'Technology' 'region_17' ... 0.0 89.0 'PT']]\n"
          ]
        }
      ]
    },
    {
      "cell_type": "code",
      "source": [
        "# Print the column index of dataset\n",
        "print(df.columns)"
      ],
      "metadata": {
        "colab": {
          "base_uri": "https://localhost:8080/"
        },
        "id": "KG-aWmCKvfiJ",
        "outputId": "6721d07d-6a6d-4462-c4f6-e479f4f0eb42"
      },
      "execution_count": null,
      "outputs": [
        {
          "output_type": "stream",
          "name": "stdout",
          "text": [
            "Index(['id', 'department', 'region', 'education', 'gender',\n",
            "       'recruitment_channel', 'No. of Training', 'age', 'previous_year_rating',\n",
            "       'length_of_service', 'KPIs_met >80%', 'awards_won?',\n",
            "       'avg_training_score', 'FT/PT'],\n",
            "      dtype='object')\n"
          ]
        }
      ]
    },
    {
      "cell_type": "code",
      "source": [
        "## Print the row index of dataset\n",
        "print(df.index)"
      ],
      "metadata": {
        "colab": {
          "base_uri": "https://localhost:8080/"
        },
        "id": "BiHdYi8kvrpa",
        "outputId": "bbec7195-69be-4dee-9c5d-4d084a9dc9d0"
      },
      "execution_count": null,
      "outputs": [
        {
          "output_type": "stream",
          "name": "stdout",
          "text": [
            "RangeIndex(start=0, stop=23489, step=1)\n"
          ]
        }
      ]
    },
    {
      "cell_type": "markdown",
      "source": [
        "**Section 2** : Sorting and subsetting"
      ],
      "metadata": {
        "id": "db1QBvWSwJgy"
      }
    },
    {
      "cell_type": "markdown",
      "source": [
        "You can sort the rows by passing a column name to .sort_values().\n",
        "*   one column\tdf.sort_values(\"breed\")\n",
        "*   multiple columns\tdf.sort_values([\"breed\", \"weight_kg\"])\n",
        "\n"
      ],
      "metadata": {
        "id": "r6zfD-RbJ0R4"
      }
    },
    {
      "cell_type": "code",
      "source": [
        "#printing values sorted by age\n",
        "hr_sort_age = df.sort_values(\"age\")\n",
        "print(hr_sort_age.head())"
      ],
      "metadata": {
        "colab": {
          "base_uri": "https://localhost:8080/"
        },
        "id": "VNmI2CmoKIgg",
        "outputId": "e3458835-2ae7-423a-b5e5-78ecdd11ca4d"
      },
      "execution_count": null,
      "outputs": [
        {
          "output_type": "stream",
          "name": "stdout",
          "text": [
            "            id         department    region        education gender  \\\n",
            "22975   9511.0         Operations  region_2       Bachelor's      f   \n",
            "7044   41754.0        Procurement  region_2  Below Secondary      f   \n",
            "16954  47856.0        Procurement  region_2  Below Secondary      m   \n",
            "9323   76930.0  Sales & Marketing  region_2       Bachelor's      m   \n",
            "18594  15196.0  Sales & Marketing  region_2              NaN      m   \n",
            "\n",
            "      recruitment_channel  No. of Training   age  previous_year_rating  \\\n",
            "22975            sourcing              1.0  20.0                   NaN   \n",
            "7044             sourcing              1.0  20.0                   3.0   \n",
            "16954               other              2.0  20.0                   5.0   \n",
            "9323             sourcing              1.0  20.0                   1.0   \n",
            "18594               other              2.0  20.0                   NaN   \n",
            "\n",
            "       length_of_service  KPIs_met >80%  awards_won?  avg_training_score FT/PT  \n",
            "22975                1.0            0.0          0.0                64.0    PT  \n",
            "7044                 2.0            1.0          0.0                71.0    FT  \n",
            "16954                2.0            0.0          0.0                65.0    PT  \n",
            "9323                 2.0            0.0          0.0                45.0    FT  \n",
            "18594                1.0            0.0          0.0                50.0    PT  \n"
          ]
        }
      ]
    },
    {
      "cell_type": "code",
      "source": [
        "#sorting in descending order by avg_training_score\n",
        "hr_sorted_score= df.sort_values(\"avg_training_score\" , ascending = False)\n",
        "print(hr_sorted_score.head())"
      ],
      "metadata": {
        "colab": {
          "base_uri": "https://localhost:8080/"
        },
        "id": "ISmzxqX_KAq5",
        "outputId": "f243bd23-850b-44bd-9abc-1f2681300b0f"
      },
      "execution_count": null,
      "outputs": [
        {
          "output_type": "stream",
          "name": "stdout",
          "text": [
            "            id         department     region         education gender  \\\n",
            "22108  68246.0          Analytics   region_2        Bachelor's      m   \n",
            "10091  15060.0  Sales & Marketing   region_1  Master's & above      m   \n",
            "3846   23629.0         Operations   region_3        Bachelor's      m   \n",
            "22973  28659.0         Operations   region_7        Bachelor's      m   \n",
            "3505   44692.0  Sales & Marketing  region_22        Bachelor's      m   \n",
            "\n",
            "      recruitment_channel  No. of Training   age  previous_year_rating  \\\n",
            "22108            sourcing              1.0  44.0                   4.0   \n",
            "10091            sourcing              1.0  31.0                   NaN   \n",
            "3846                other              2.0  29.0                   5.0   \n",
            "22973            sourcing              1.0  31.0                   3.0   \n",
            "3505             sourcing              2.0  32.0                   5.0   \n",
            "\n",
            "       length_of_service  KPIs_met >80%  awards_won?  avg_training_score FT/PT  \n",
            "22108               16.0            1.0          0.0                99.0    PT  \n",
            "10091                1.0            1.0          0.0                99.0    PT  \n",
            "3846                 2.0            0.0          0.0                99.0    PT  \n",
            "22973                2.0            0.0          0.0                99.0    PT  \n",
            "3505                10.0            1.0          1.0                99.0    FT  \n"
          ]
        }
      ]
    },
    {
      "cell_type": "code",
      "source": [
        "#sorting based on two columns , we assign the ascending to list of booleans\n",
        "hr_sort = df.sort_values([\"age\" , \"avg_training_score\"], ascending =[True , False])\n",
        "print(hr_sort.head())"
      ],
      "metadata": {
        "colab": {
          "base_uri": "https://localhost:8080/"
        },
        "id": "utUw2wnLVTbC",
        "outputId": "a18cfcef-5716-4949-f634-1debf1ae5b0b"
      },
      "execution_count": null,
      "outputs": [
        {
          "output_type": "stream",
          "name": "stdout",
          "text": [
            "            id  department     region         education gender  \\\n",
            "10799  17015.0   Analytics   region_2        Bachelor's      m   \n",
            "3944   22637.0  Technology   region_2        Bachelor's      m   \n",
            "7309    9035.0   Analytics  region_22        Bachelor's      m   \n",
            "17018   4449.0  Technology   region_2   Below Secondary      m   \n",
            "17867  63465.0  Technology   region_2  Master's & above      f   \n",
            "\n",
            "      recruitment_channel  No. of Training   age  previous_year_rating  \\\n",
            "10799               other              4.0  20.0                   NaN   \n",
            "3944             sourcing              1.0  20.0                   3.0   \n",
            "7309             sourcing              1.0  20.0                   NaN   \n",
            "17018               other              1.0  20.0                   3.0   \n",
            "17867            sourcing              1.0  20.0                   NaN   \n",
            "\n",
            "       length_of_service  KPIs_met >80%  awards_won?  avg_training_score FT/PT  \n",
            "10799                1.0            1.0          0.0                84.0    FT  \n",
            "3944                 2.0            1.0          0.0                82.0    FT  \n",
            "7309                 1.0            1.0          1.0                80.0    FT  \n",
            "17018                2.0            0.0          0.0                77.0    FT  \n",
            "17867                1.0            0.0          0.0                77.0    PT  \n"
          ]
        }
      ]
    },
    {
      "cell_type": "markdown",
      "source": [
        "**Subsetting columns**\n",
        "When working with data, you may not need all of the variables in your dataset. Square brackets ([]) can be used to select only the columns that matter to you in an order that makes sense to you."
      ],
      "metadata": {
        "id": "0mRqJ41uYKzj"
      }
    },
    {
      "cell_type": "code",
      "source": [
        "#selecting only the department colum\n",
        "hr_subset = df[\"department\"]\n",
        "print(hr_subset.head())"
      ],
      "metadata": {
        "colab": {
          "base_uri": "https://localhost:8080/"
        },
        "id": "jXlJA1t5YMwI",
        "outputId": "b68940ab-cdab-43dc-b797-f7d782c732cb"
      },
      "execution_count": null,
      "outputs": [
        {
          "output_type": "stream",
          "name": "stdout",
          "text": [
            "0           Technology\n",
            "1                   HR\n",
            "2    Sales & Marketing\n",
            "3          Procurement\n",
            "4              Finance\n",
            "Name: department, dtype: object\n"
          ]
        }
      ]
    },
    {
      "cell_type": "code",
      "source": [
        "#selecting multiple columns and printing them in order\n",
        "hr_subset_columns = df[[\"department\" , \"recruitment_channel\"]]\n",
        "print(hr_subset_columns.head())"
      ],
      "metadata": {
        "colab": {
          "base_uri": "https://localhost:8080/"
        },
        "id": "M2W4LkMmZQT_",
        "outputId": "2a44c1cb-4bd2-4e16-bbfd-3524f07c1b09"
      },
      "execution_count": null,
      "outputs": [
        {
          "output_type": "stream",
          "name": "stdout",
          "text": [
            "          department recruitment_channel\n",
            "0         Technology            sourcing\n",
            "1                 HR               other\n",
            "2  Sales & Marketing               other\n",
            "3        Procurement               other\n",
            "4            Finance            sourcing\n"
          ]
        }
      ]
    },
    {
      "cell_type": "markdown",
      "source": [
        "**Fitering**\n",
        "* Sort values according to a certain criteria (((dogs[dogs[\"height_cm\"] > 60]\n",
        "dogs[dogs[\"color\"] == \"tan\"]\n",
        "*   You can filter for multiple conditions at once by using the \"bitwise and\" operator, &. ((((dogs[(dogs[\"height_cm\"] > 60) & (dogs[\"color\"] == \"tan\")]"
      ],
      "metadata": {
        "id": "ac7Z4rTuazqS"
      }
    },
    {
      "cell_type": "code",
      "source": [
        "#printing only female gender\n",
        "hr_filtered_gender = df[df[\"gender\"] == \"f\"]\n",
        "print(hr_filtered_gender)"
      ],
      "metadata": {
        "colab": {
          "base_uri": "https://localhost:8080/"
        },
        "id": "H6Fzuq8mbMAR",
        "outputId": "42f98f17-6d68-4fa8-a1fd-91c68f55b3fb"
      },
      "execution_count": null,
      "outputs": [
        {
          "output_type": "stream",
          "name": "stdout",
          "text": [
            "            id         department     region         education gender  \\\n",
            "1      74430.0                 HR   region_4        Bachelor's      f   \n",
            "3      38562.0        Procurement   region_2        Bachelor's      f   \n",
            "12     30963.0  Sales & Marketing   region_4  Master's & above      f   \n",
            "16     27561.0         Operations  region_27        Bachelor's      f   \n",
            "18     31582.0        Procurement   region_7        Bachelor's      f   \n",
            "...        ...                ...        ...               ...    ...   \n",
            "23474  73871.0              Legal  region_27        Bachelor's      f   \n",
            "23475  52090.0  Sales & Marketing   region_2  Master's & above      f   \n",
            "23477  59673.0        Procurement  region_17        Bachelor's      f   \n",
            "23479  11837.0         Operations  region_33        Bachelor's      f   \n",
            "23486  45409.0                 HR  region_16        Bachelor's      f   \n",
            "\n",
            "      recruitment_channel  No. of Training   age  previous_year_rating  \\\n",
            "1                   other              1.0  31.0                   3.0   \n",
            "3                   other              3.0  31.0                   2.0   \n",
            "12                  other              1.0  34.0                   3.0   \n",
            "16               sourcing              1.0  26.0                   5.0   \n",
            "18                  other              1.0  49.0                   3.0   \n",
            "...                   ...              ...   ...                   ...   \n",
            "23474            sourcing              1.0  28.0                   3.0   \n",
            "23475               other              1.0  51.0                   4.0   \n",
            "23477            sourcing              1.0  27.0                   4.0   \n",
            "23479            sourcing              1.0  29.0                   5.0   \n",
            "23486            sourcing              1.0  26.0                   4.0   \n",
            "\n",
            "       length_of_service  KPIs_met >80%  awards_won?  avg_training_score FT/PT  \n",
            "1                    5.0            0.0          0.0                51.0    FT  \n",
            "3                    9.0            0.0          0.0                65.0    FT  \n",
            "12                   4.0            0.0          0.0                52.0    FT  \n",
            "16                   3.0            0.0          0.0                56.0    FT  \n",
            "18                   7.0            1.0          0.0                64.0    FT  \n",
            "...                  ...            ...          ...                 ...   ...  \n",
            "23474                2.0            0.0          0.0                61.0    PT  \n",
            "23475                8.0            0.0          0.0                50.0    PT  \n",
            "23477                3.0            1.0          0.0                69.0    PT  \n",
            "23479                6.0            1.0          0.0                60.0    PT  \n",
            "23486                4.0            0.0          0.0                50.0    PT  \n",
            "\n",
            "[6893 rows x 14 columns]\n"
          ]
        }
      ]
    },
    {
      "cell_type": "code",
      "source": [
        "#filtering multiple selections\n",
        "hr_filter = df[(df[\"gender\"] == \"f\") & (df[\"recruitment_channel\"] == \"other\")]\n",
        "print(hr_filter)"
      ],
      "metadata": {
        "colab": {
          "base_uri": "https://localhost:8080/"
        },
        "id": "Rhf5bsFsfUUG",
        "outputId": "765da982-3920-4c36-8f68-d61c1d779657"
      },
      "execution_count": null,
      "outputs": [
        {
          "output_type": "stream",
          "name": "stdout",
          "text": [
            "            id         department     region         education gender  \\\n",
            "1      74430.0                 HR   region_4        Bachelor's      f   \n",
            "3      38562.0        Procurement   region_2        Bachelor's      f   \n",
            "12     30963.0  Sales & Marketing   region_4  Master's & above      f   \n",
            "18     31582.0        Procurement   region_7        Bachelor's      f   \n",
            "24      8566.0            Finance  region_20        Bachelor's      f   \n",
            "...        ...                ...        ...               ...    ...   \n",
            "23465  51115.0         Technology   region_2  Master's & above      f   \n",
            "23468  14408.0        Procurement  region_26        Bachelor's      f   \n",
            "23471  29379.0         Technology   region_6        Bachelor's      f   \n",
            "23473  61451.0         Operations   region_7  Master's & above      f   \n",
            "23475  52090.0  Sales & Marketing   region_2  Master's & above      f   \n",
            "\n",
            "      recruitment_channel  No. of Training   age  previous_year_rating  \\\n",
            "1                   other              1.0  31.0                   3.0   \n",
            "3                   other              3.0  31.0                   2.0   \n",
            "12                  other              1.0  34.0                   3.0   \n",
            "18                  other              1.0  49.0                   3.0   \n",
            "24                  other              1.0  29.0                   4.0   \n",
            "...                   ...              ...   ...                   ...   \n",
            "23465               other              1.0  40.0                   4.0   \n",
            "23468               other              1.0  30.0                   1.0   \n",
            "23471               other              1.0  29.0                   3.0   \n",
            "23473               other              2.0  43.0                   3.0   \n",
            "23475               other              1.0  51.0                   4.0   \n",
            "\n",
            "       length_of_service  KPIs_met >80%  awards_won?  avg_training_score FT/PT  \n",
            "1                    5.0            0.0          0.0                51.0    FT  \n",
            "3                    9.0            0.0          0.0                65.0    FT  \n",
            "12                   4.0            0.0          0.0                52.0    FT  \n",
            "18                   7.0            1.0          0.0                64.0    FT  \n",
            "24                   6.0            1.0          0.0                58.0    FT  \n",
            "...                  ...            ...          ...                 ...   ...  \n",
            "23465               10.0            0.0          0.0                76.0    PT  \n",
            "23468                1.0            0.0          0.0                69.0    PT  \n",
            "23471                3.0            0.0          0.0                87.0    PT  \n",
            "23473                3.0            0.0          0.0                61.0    PT  \n",
            "23475                8.0            0.0          0.0                50.0    PT  \n",
            "\n",
            "[3846 rows x 14 columns]\n"
          ]
        }
      ]
    },
    {
      "cell_type": "markdown",
      "source": [
        "filtering rows using the | is also the same as the &"
      ],
      "metadata": {
        "id": "c_cPSb4ClqeR"
      }
    },
    {
      "cell_type": "code",
      "source": [
        "#filtering depending on the given values being available to the present values in the dataset\n",
        "# HR departments\n",
        "dept = [\"Administrator\", \"Finance\", \"Technology\", \"Security\"]\n",
        "\n",
        "# Filter for rows in the department column\n",
        "hr_dept = df[df[\"department\"].isin(dept)]\n",
        "\n",
        "# See the result\n",
        "print(hr_dept)"
      ],
      "metadata": {
        "colab": {
          "base_uri": "https://localhost:8080/"
        },
        "id": "wpmdUP-Clt8f",
        "outputId": "c923cab9-cdcf-4557-b7d9-553d523bc30d"
      },
      "execution_count": null,
      "outputs": [
        {
          "output_type": "stream",
          "name": "stdout",
          "text": [
            "            id  department     region         education gender  \\\n",
            "0       8724.0  Technology  region_26        Bachelor's      m   \n",
            "4      64486.0     Finance  region_29        Bachelor's      m   \n",
            "6      54542.0     Finance   region_2        Bachelor's      m   \n",
            "8      66174.0  Technology   region_7  Master's & above      m   \n",
            "9      76303.0  Technology  region_22        Bachelor's      m   \n",
            "...        ...         ...        ...               ...    ...   \n",
            "23465  51115.0  Technology   region_2  Master's & above      f   \n",
            "23466  50134.0  Technology   region_2        Bachelor's      m   \n",
            "23471  29379.0  Technology   region_6        Bachelor's      f   \n",
            "23485  25600.0  Technology  region_25        Bachelor's      m   \n",
            "23488   5973.0  Technology  region_17  Master's & above      m   \n",
            "\n",
            "      recruitment_channel  No. of Training   age  previous_year_rating  \\\n",
            "0                sourcing              NaN  24.0                   NaN   \n",
            "4                sourcing              1.0  30.0                   4.0   \n",
            "6                   other              1.0  33.0                   5.0   \n",
            "8                   other              1.0  51.0                   4.0   \n",
            "9                sourcing              1.0  29.0                   5.0   \n",
            "...                   ...              ...   ...                   ...   \n",
            "23465               other              1.0  40.0                   4.0   \n",
            "23466            referred              2.0  28.0                   4.0   \n",
            "23471               other              1.0  29.0                   3.0   \n",
            "23485            sourcing              1.0  31.0                   3.0   \n",
            "23488               other              3.0  40.0                   5.0   \n",
            "\n",
            "       length_of_service  KPIs_met >80%  awards_won?  avg_training_score FT/PT  \n",
            "0                    1.0            1.0          0.0                77.0    FT  \n",
            "4                    7.0            0.0          0.0                61.0    FT  \n",
            "6                    3.0            1.0          0.0                57.0    FT  \n",
            "8                   11.0            0.0          0.0                75.0    FT  \n",
            "9                    2.0            1.0          0.0                76.0    FT  \n",
            "...                  ...            ...          ...                 ...   ...  \n",
            "23465               10.0            0.0          0.0                76.0    PT  \n",
            "23466                6.0            1.0          0.0                79.0    PT  \n",
            "23471                3.0            0.0          0.0                87.0    PT  \n",
            "23485                7.0            0.0          0.0                74.0    PT  \n",
            "23488                5.0            1.0          0.0                89.0    PT  \n",
            "\n",
            "[4104 rows x 14 columns]\n"
          ]
        }
      ]
    },
    {
      "cell_type": "markdown",
      "source": [
        "**Adding a new column**\n",
        ":deriving a new column from other columns\n"
      ],
      "metadata": {
        "id": "eiVUQO7JoVDe"
      }
    },
    {
      "cell_type": "code",
      "source": [
        "#adding a new column which is a product from existing columns\n",
        "df[\"%_rating\"] = df[\"previous_year_rating\"] /10 *100\n",
        "print(df)\n"
      ],
      "metadata": {
        "colab": {
          "base_uri": "https://localhost:8080/"
        },
        "id": "jkJMxH0RoPUn",
        "outputId": "7d18ee61-e48c-477f-ef67-8c4ad2694075"
      },
      "execution_count": null,
      "outputs": [
        {
          "output_type": "stream",
          "name": "stdout",
          "text": [
            "            id         department     region         education gender  \\\n",
            "0       8724.0         Technology  region_26        Bachelor's      m   \n",
            "1      74430.0                 HR   region_4        Bachelor's      f   \n",
            "2      72255.0  Sales & Marketing  region_13        Bachelor's      m   \n",
            "3      38562.0        Procurement   region_2        Bachelor's      f   \n",
            "4      64486.0            Finance  region_29        Bachelor's      m   \n",
            "...        ...                ...        ...               ...    ...   \n",
            "23484  53478.0              Legal   region_2   Below Secondary      m   \n",
            "23485  25600.0         Technology  region_25        Bachelor's      m   \n",
            "23486  45409.0                 HR  region_16        Bachelor's      f   \n",
            "23487   1186.0        Procurement  region_31        Bachelor's      m   \n",
            "23488   5973.0         Technology  region_17  Master's & above      m   \n",
            "\n",
            "      recruitment_channel  No. of Training   age  previous_year_rating  \\\n",
            "0                sourcing              NaN  24.0                   NaN   \n",
            "1                   other              1.0  31.0                   3.0   \n",
            "2                   other              1.0  31.0                   1.0   \n",
            "3                   other              3.0  31.0                   2.0   \n",
            "4                sourcing              1.0  30.0                   4.0   \n",
            "...                   ...              ...   ...                   ...   \n",
            "23484            sourcing              1.0  24.0                   3.0   \n",
            "23485            sourcing              1.0  31.0                   3.0   \n",
            "23486            sourcing              1.0  26.0                   4.0   \n",
            "23487            sourcing              3.0  27.0                   NaN   \n",
            "23488               other              3.0  40.0                   5.0   \n",
            "\n",
            "       length_of_service  KPIs_met >80%  awards_won?  avg_training_score  \\\n",
            "0                    1.0            1.0          0.0                77.0   \n",
            "1                    5.0            0.0          0.0                51.0   \n",
            "2                    4.0            0.0          0.0                47.0   \n",
            "3                    9.0            0.0          0.0                65.0   \n",
            "4                    7.0            0.0          0.0                61.0   \n",
            "...                  ...            ...          ...                 ...   \n",
            "23484                1.0            0.0          0.0                61.0   \n",
            "23485                7.0            0.0          0.0                74.0   \n",
            "23486                4.0            0.0          0.0                50.0   \n",
            "23487                1.0            0.0          0.0                70.0   \n",
            "23488                5.0            1.0          0.0                89.0   \n",
            "\n",
            "      FT/PT  %_rating  \n",
            "0        FT       NaN  \n",
            "1        FT      30.0  \n",
            "2        FT      10.0  \n",
            "3        FT      20.0  \n",
            "4        FT      40.0  \n",
            "...     ...       ...  \n",
            "23484    PT      30.0  \n",
            "23485    PT      30.0  \n",
            "23486    PT      40.0  \n",
            "23487    PT       NaN  \n",
            "23488    PT      50.0  \n",
            "\n",
            "[23489 rows x 15 columns]\n"
          ]
        }
      ]
    },
    {
      "cell_type": "markdown",
      "source": [
        "**Section 2** : AGGREGATING DATA FRAMES"
      ],
      "metadata": {
        "id": "Fm6pR_JrJlgi"
      }
    },
    {
      "cell_type": "markdown",
      "source": [
        "**Summary statistics** : they summarize many numbers in one statistic. For example, mean, median, minimum, maximum, and standard deviation are summary statistics. Calculating summary statistics allows you to get a better sense of your data, even if there's a lot of it."
      ],
      "metadata": {
        "id": "BFEwHhDhTNTj"
      }
    },
    {
      "cell_type": "code",
      "source": [
        "\n",
        "sales_data = pd.read_csv(\"/content/drive/MyDrive/Datasets/Sales.csv\",encoding='cp1252')\n",
        "sales_data.head()"
      ],
      "metadata": {
        "colab": {
          "base_uri": "https://localhost:8080/",
          "height": 404
        },
        "id": "zYMBB2VkSwnb",
        "outputId": "0f055b46-bc0b-4b38-bdea-25912fdc81d5"
      },
      "execution_count": null,
      "outputs": [
        {
          "output_type": "execute_result",
          "data": {
            "text/plain": [
              "   ORDERNUMBER  QUANTITYORDERED  PRICEEACH  ORDERLINENUMBER    SALES  \\\n",
              "0        10107               30      95.70                2  2871.00   \n",
              "1        10121               34      81.35                5  2765.90   \n",
              "2        10134               41      94.74                2  3884.34   \n",
              "3        10145               45      83.26                6  3746.70   \n",
              "4        10159               49     100.00               14  5205.27   \n",
              "\n",
              "         ORDERDATE   STATUS  QTR_ID  MONTH_ID  YEAR_ID  ...  \\\n",
              "0   2/24/2003 0:00  Shipped       1         2     2003  ...   \n",
              "1    5/7/2003 0:00  Shipped       2         5     2003  ...   \n",
              "2    7/1/2003 0:00  Shipped       3         7     2003  ...   \n",
              "3   8/25/2003 0:00  Shipped       3         8     2003  ...   \n",
              "4  10/10/2003 0:00  Shipped       4        10     2003  ...   \n",
              "\n",
              "                    ADDRESSLINE1  ADDRESSLINE2           CITY STATE  \\\n",
              "0        897 Long Airport Avenue           NaN            NYC    NY   \n",
              "1             59 rue de l'Abbaye           NaN          Reims   NaN   \n",
              "2  27 rue du Colonel Pierre Avia           NaN          Paris   NaN   \n",
              "3             78934 Hillside Dr.           NaN       Pasadena    CA   \n",
              "4                7734 Strong St.           NaN  San Francisco    CA   \n",
              "\n",
              "  POSTALCODE COUNTRY TERRITORY CONTACTLASTNAME CONTACTFIRSTNAME DEALSIZE  \n",
              "0      10022     USA       NaN              Yu             Kwai    Small  \n",
              "1      51100  France      EMEA         Henriot             Paul    Small  \n",
              "2      75508  France      EMEA        Da Cunha           Daniel   Medium  \n",
              "3      90003     USA       NaN           Young            Julie   Medium  \n",
              "4        NaN     USA       NaN           Brown            Julie   Medium  \n",
              "\n",
              "[5 rows x 25 columns]"
            ],
            "text/html": [
              "\n",
              "  <div id=\"df-6c241f15-20a1-42cb-b0d3-59befe698ab6\">\n",
              "    <div class=\"colab-df-container\">\n",
              "      <div>\n",
              "<style scoped>\n",
              "    .dataframe tbody tr th:only-of-type {\n",
              "        vertical-align: middle;\n",
              "    }\n",
              "\n",
              "    .dataframe tbody tr th {\n",
              "        vertical-align: top;\n",
              "    }\n",
              "\n",
              "    .dataframe thead th {\n",
              "        text-align: right;\n",
              "    }\n",
              "</style>\n",
              "<table border=\"1\" class=\"dataframe\">\n",
              "  <thead>\n",
              "    <tr style=\"text-align: right;\">\n",
              "      <th></th>\n",
              "      <th>ORDERNUMBER</th>\n",
              "      <th>QUANTITYORDERED</th>\n",
              "      <th>PRICEEACH</th>\n",
              "      <th>ORDERLINENUMBER</th>\n",
              "      <th>SALES</th>\n",
              "      <th>ORDERDATE</th>\n",
              "      <th>STATUS</th>\n",
              "      <th>QTR_ID</th>\n",
              "      <th>MONTH_ID</th>\n",
              "      <th>YEAR_ID</th>\n",
              "      <th>...</th>\n",
              "      <th>ADDRESSLINE1</th>\n",
              "      <th>ADDRESSLINE2</th>\n",
              "      <th>CITY</th>\n",
              "      <th>STATE</th>\n",
              "      <th>POSTALCODE</th>\n",
              "      <th>COUNTRY</th>\n",
              "      <th>TERRITORY</th>\n",
              "      <th>CONTACTLASTNAME</th>\n",
              "      <th>CONTACTFIRSTNAME</th>\n",
              "      <th>DEALSIZE</th>\n",
              "    </tr>\n",
              "  </thead>\n",
              "  <tbody>\n",
              "    <tr>\n",
              "      <th>0</th>\n",
              "      <td>10107</td>\n",
              "      <td>30</td>\n",
              "      <td>95.70</td>\n",
              "      <td>2</td>\n",
              "      <td>2871.00</td>\n",
              "      <td>2/24/2003 0:00</td>\n",
              "      <td>Shipped</td>\n",
              "      <td>1</td>\n",
              "      <td>2</td>\n",
              "      <td>2003</td>\n",
              "      <td>...</td>\n",
              "      <td>897 Long Airport Avenue</td>\n",
              "      <td>NaN</td>\n",
              "      <td>NYC</td>\n",
              "      <td>NY</td>\n",
              "      <td>10022</td>\n",
              "      <td>USA</td>\n",
              "      <td>NaN</td>\n",
              "      <td>Yu</td>\n",
              "      <td>Kwai</td>\n",
              "      <td>Small</td>\n",
              "    </tr>\n",
              "    <tr>\n",
              "      <th>1</th>\n",
              "      <td>10121</td>\n",
              "      <td>34</td>\n",
              "      <td>81.35</td>\n",
              "      <td>5</td>\n",
              "      <td>2765.90</td>\n",
              "      <td>5/7/2003 0:00</td>\n",
              "      <td>Shipped</td>\n",
              "      <td>2</td>\n",
              "      <td>5</td>\n",
              "      <td>2003</td>\n",
              "      <td>...</td>\n",
              "      <td>59 rue de l'Abbaye</td>\n",
              "      <td>NaN</td>\n",
              "      <td>Reims</td>\n",
              "      <td>NaN</td>\n",
              "      <td>51100</td>\n",
              "      <td>France</td>\n",
              "      <td>EMEA</td>\n",
              "      <td>Henriot</td>\n",
              "      <td>Paul</td>\n",
              "      <td>Small</td>\n",
              "    </tr>\n",
              "    <tr>\n",
              "      <th>2</th>\n",
              "      <td>10134</td>\n",
              "      <td>41</td>\n",
              "      <td>94.74</td>\n",
              "      <td>2</td>\n",
              "      <td>3884.34</td>\n",
              "      <td>7/1/2003 0:00</td>\n",
              "      <td>Shipped</td>\n",
              "      <td>3</td>\n",
              "      <td>7</td>\n",
              "      <td>2003</td>\n",
              "      <td>...</td>\n",
              "      <td>27 rue du Colonel Pierre Avia</td>\n",
              "      <td>NaN</td>\n",
              "      <td>Paris</td>\n",
              "      <td>NaN</td>\n",
              "      <td>75508</td>\n",
              "      <td>France</td>\n",
              "      <td>EMEA</td>\n",
              "      <td>Da Cunha</td>\n",
              "      <td>Daniel</td>\n",
              "      <td>Medium</td>\n",
              "    </tr>\n",
              "    <tr>\n",
              "      <th>3</th>\n",
              "      <td>10145</td>\n",
              "      <td>45</td>\n",
              "      <td>83.26</td>\n",
              "      <td>6</td>\n",
              "      <td>3746.70</td>\n",
              "      <td>8/25/2003 0:00</td>\n",
              "      <td>Shipped</td>\n",
              "      <td>3</td>\n",
              "      <td>8</td>\n",
              "      <td>2003</td>\n",
              "      <td>...</td>\n",
              "      <td>78934 Hillside Dr.</td>\n",
              "      <td>NaN</td>\n",
              "      <td>Pasadena</td>\n",
              "      <td>CA</td>\n",
              "      <td>90003</td>\n",
              "      <td>USA</td>\n",
              "      <td>NaN</td>\n",
              "      <td>Young</td>\n",
              "      <td>Julie</td>\n",
              "      <td>Medium</td>\n",
              "    </tr>\n",
              "    <tr>\n",
              "      <th>4</th>\n",
              "      <td>10159</td>\n",
              "      <td>49</td>\n",
              "      <td>100.00</td>\n",
              "      <td>14</td>\n",
              "      <td>5205.27</td>\n",
              "      <td>10/10/2003 0:00</td>\n",
              "      <td>Shipped</td>\n",
              "      <td>4</td>\n",
              "      <td>10</td>\n",
              "      <td>2003</td>\n",
              "      <td>...</td>\n",
              "      <td>7734 Strong St.</td>\n",
              "      <td>NaN</td>\n",
              "      <td>San Francisco</td>\n",
              "      <td>CA</td>\n",
              "      <td>NaN</td>\n",
              "      <td>USA</td>\n",
              "      <td>NaN</td>\n",
              "      <td>Brown</td>\n",
              "      <td>Julie</td>\n",
              "      <td>Medium</td>\n",
              "    </tr>\n",
              "  </tbody>\n",
              "</table>\n",
              "<p>5 rows × 25 columns</p>\n",
              "</div>\n",
              "      <button class=\"colab-df-convert\" onclick=\"convertToInteractive('df-6c241f15-20a1-42cb-b0d3-59befe698ab6')\"\n",
              "              title=\"Convert this dataframe to an interactive table.\"\n",
              "              style=\"display:none;\">\n",
              "        \n",
              "  <svg xmlns=\"http://www.w3.org/2000/svg\" height=\"24px\"viewBox=\"0 0 24 24\"\n",
              "       width=\"24px\">\n",
              "    <path d=\"M0 0h24v24H0V0z\" fill=\"none\"/>\n",
              "    <path d=\"M18.56 5.44l.94 2.06.94-2.06 2.06-.94-2.06-.94-.94-2.06-.94 2.06-2.06.94zm-11 1L8.5 8.5l.94-2.06 2.06-.94-2.06-.94L8.5 2.5l-.94 2.06-2.06.94zm10 10l.94 2.06.94-2.06 2.06-.94-2.06-.94-.94-2.06-.94 2.06-2.06.94z\"/><path d=\"M17.41 7.96l-1.37-1.37c-.4-.4-.92-.59-1.43-.59-.52 0-1.04.2-1.43.59L10.3 9.45l-7.72 7.72c-.78.78-.78 2.05 0 2.83L4 21.41c.39.39.9.59 1.41.59.51 0 1.02-.2 1.41-.59l7.78-7.78 2.81-2.81c.8-.78.8-2.07 0-2.86zM5.41 20L4 18.59l7.72-7.72 1.47 1.35L5.41 20z\"/>\n",
              "  </svg>\n",
              "      </button>\n",
              "      \n",
              "  <style>\n",
              "    .colab-df-container {\n",
              "      display:flex;\n",
              "      flex-wrap:wrap;\n",
              "      gap: 12px;\n",
              "    }\n",
              "\n",
              "    .colab-df-convert {\n",
              "      background-color: #E8F0FE;\n",
              "      border: none;\n",
              "      border-radius: 50%;\n",
              "      cursor: pointer;\n",
              "      display: none;\n",
              "      fill: #1967D2;\n",
              "      height: 32px;\n",
              "      padding: 0 0 0 0;\n",
              "      width: 32px;\n",
              "    }\n",
              "\n",
              "    .colab-df-convert:hover {\n",
              "      background-color: #E2EBFA;\n",
              "      box-shadow: 0px 1px 2px rgba(60, 64, 67, 0.3), 0px 1px 3px 1px rgba(60, 64, 67, 0.15);\n",
              "      fill: #174EA6;\n",
              "    }\n",
              "\n",
              "    [theme=dark] .colab-df-convert {\n",
              "      background-color: #3B4455;\n",
              "      fill: #D2E3FC;\n",
              "    }\n",
              "\n",
              "    [theme=dark] .colab-df-convert:hover {\n",
              "      background-color: #434B5C;\n",
              "      box-shadow: 0px 1px 3px 1px rgba(0, 0, 0, 0.15);\n",
              "      filter: drop-shadow(0px 1px 2px rgba(0, 0, 0, 0.3));\n",
              "      fill: #FFFFFF;\n",
              "    }\n",
              "  </style>\n",
              "\n",
              "      <script>\n",
              "        const buttonEl =\n",
              "          document.querySelector('#df-6c241f15-20a1-42cb-b0d3-59befe698ab6 button.colab-df-convert');\n",
              "        buttonEl.style.display =\n",
              "          google.colab.kernel.accessAllowed ? 'block' : 'none';\n",
              "\n",
              "        async function convertToInteractive(key) {\n",
              "          const element = document.querySelector('#df-6c241f15-20a1-42cb-b0d3-59befe698ab6');\n",
              "          const dataTable =\n",
              "            await google.colab.kernel.invokeFunction('convertToInteractive',\n",
              "                                                     [key], {});\n",
              "          if (!dataTable) return;\n",
              "\n",
              "          const docLinkHtml = 'Like what you see? Visit the ' +\n",
              "            '<a target=\"_blank\" href=https://colab.research.google.com/notebooks/data_table.ipynb>data table notebook</a>'\n",
              "            + ' to learn more about interactive tables.';\n",
              "          element.innerHTML = '';\n",
              "          dataTable['output_type'] = 'display_data';\n",
              "          await google.colab.output.renderOutput(dataTable, element);\n",
              "          const docLink = document.createElement('div');\n",
              "          docLink.innerHTML = docLinkHtml;\n",
              "          element.appendChild(docLink);\n",
              "        }\n",
              "      </script>\n",
              "    </div>\n",
              "  </div>\n",
              "  "
            ]
          },
          "metadata": {},
          "execution_count": 20
        }
      ]
    },
    {
      "cell_type": "code",
      "source": [
        "#calculating the mean and median of sales from the sales column\n",
        "print(sales_data[\"SALES\"].mean())\n",
        "print(sales_data[\"SALES\"].median())"
      ],
      "metadata": {
        "colab": {
          "base_uri": "https://localhost:8080/"
        },
        "id": "EOW7KCKmT3xz",
        "outputId": "ba8703ec-f281-4121-d80a-bbcc9f5634b4"
      },
      "execution_count": null,
      "outputs": [
        {
          "output_type": "stream",
          "name": "stdout",
          "text": [
            "3553.889071909316\n",
            "3184.8\n"
          ]
        }
      ]
    },
    {
      "cell_type": "code",
      "source": [
        "#calculating the max and min of the order_date\n",
        "print(sales_data[\"ORDERDATE\"].max())\n",
        "print(sales_data[\"ORDERDATE\"].min())"
      ],
      "metadata": {
        "colab": {
          "base_uri": "https://localhost:8080/"
        },
        "id": "pUitFhtlViXK",
        "outputId": "ed109f88-359a-4e6f-9848-0f7f6ac168ee"
      },
      "execution_count": null,
      "outputs": [
        {
          "output_type": "stream",
          "name": "stdout",
          "text": [
            "9/9/2004 0:00\n",
            "1/10/2003 0:00\n"
          ]
        }
      ]
    },
    {
      "cell_type": "code",
      "source": [
        "import numpy as np\n",
        "def iqr(column):\n",
        "    return column.quantile(0.75) - column.quantile(0.25)\n",
        "\n",
        "# Update to print IQR and median of price each\n",
        "print(sales_data[[\"PRICEEACH\"]].agg([iqr, np.median]))"
      ],
      "metadata": {
        "colab": {
          "base_uri": "https://localhost:8080/"
        },
        "id": "wHjnnFbJWby7",
        "outputId": "ee12f272-7b56-483b-b5ea-136bd96d71ee"
      },
      "execution_count": null,
      "outputs": [
        {
          "output_type": "stream",
          "name": "stdout",
          "text": [
            "        PRICEEACH\n",
            "iqr         31.14\n",
            "median      95.70\n"
          ]
        }
      ]
    },
    {
      "cell_type": "markdown",
      "source": [
        "**Cumulative statistics** can also be helpful in tracking summary statistics over time. In this exercise, you'll calculate the cumulative sum and cumulative max of sales, which will allow you to identify what the total sales were so far as well as what the highest weekly sales were so far.\n",
        "*   A new whole column is returned as the output\n",
        "\n",
        "\n"
      ],
      "metadata": {
        "id": "iD4Fcw9_cD-W"
      }
    },
    {
      "cell_type": "code",
      "source": [
        "#finding the cumulative sum of sales done , max sales and the min sales done\n",
        "cum_sales = sales_data[\"SALES\"].cumsum()\n",
        "print(cum_sales)"
      ],
      "metadata": {
        "colab": {
          "base_uri": "https://localhost:8080/"
        },
        "id": "xWsq6h7IcLjT",
        "outputId": "4a63a16c-30d8-4888-9ba7-689f22ae4016"
      },
      "execution_count": null,
      "outputs": [
        {
          "output_type": "stream",
          "name": "stdout",
          "text": [
            "0           2871.00\n",
            "1           5636.90\n",
            "2           9521.24\n",
            "3          13267.94\n",
            "4          18473.21\n",
            "           ...     \n",
            "2818    10018037.17\n",
            "2819    10022015.68\n",
            "2820    10027433.25\n",
            "2821    10029549.41\n",
            "2822    10032628.85\n",
            "Name: SALES, Length: 2823, dtype: float64\n"
          ]
        }
      ]
    },
    {
      "cell_type": "code",
      "source": [
        "cum_max_sales = sales_data[\"SALES\"].cummax()\n",
        "print(cum_max_sales)\n",
        "cum_min_sales = sales_data[\"SALES\"].cummin()\n",
        "print(cum_min_sales)"
      ],
      "metadata": {
        "colab": {
          "base_uri": "https://localhost:8080/"
        },
        "id": "eb-FKhyRb55l",
        "outputId": "ef08126f-73d0-4acb-ff12-bd1c4f1488ec"
      },
      "execution_count": null,
      "outputs": [
        {
          "output_type": "stream",
          "name": "stdout",
          "text": [
            "0        2871.00\n",
            "1        2871.00\n",
            "2        3884.34\n",
            "3        3884.34\n",
            "4        5205.27\n",
            "          ...   \n",
            "2818    14082.80\n",
            "2819    14082.80\n",
            "2820    14082.80\n",
            "2821    14082.80\n",
            "2822    14082.80\n",
            "Name: SALES, Length: 2823, dtype: float64\n",
            "0       2871.00\n",
            "1       2765.90\n",
            "2       2765.90\n",
            "3       2765.90\n",
            "4       2765.90\n",
            "         ...   \n",
            "2818     482.13\n",
            "2819     482.13\n",
            "2820     482.13\n",
            "2821     482.13\n",
            "2822     482.13\n",
            "Name: SALES, Length: 2823, dtype: float64\n"
          ]
        }
      ]
    },
    {
      "cell_type": "markdown",
      "source": [
        "**Counting** : Dropping duplicates :Removing duplicates is an essential skill to get accurate counts because often, you don't want to count the same thing multiple times. # Drop duplicate store/type combinations\n",
        "store_types = sales.drop_duplicates(subset=[\"store\", \"type\"])"
      ],
      "metadata": {
        "id": "lIHz4uzHdu8G"
      }
    },
    {
      "cell_type": "code",
      "source": [
        "#dropping duplicates of the city and country combinations\n",
        "sales_duplicates = sales_data.drop_duplicates(subset = \"CITY\")\n",
        "print(sales_duplicates.head())"
      ],
      "metadata": {
        "colab": {
          "base_uri": "https://localhost:8080/"
        },
        "id": "YoqMB7eiccWi",
        "outputId": "ef550642-08c1-4f3e-901f-7c148fc3d4a0"
      },
      "execution_count": null,
      "outputs": [
        {
          "output_type": "stream",
          "name": "stdout",
          "text": [
            "   ORDERNUMBER  QUANTITYORDERED  PRICEEACH  ORDERLINENUMBER    SALES  \\\n",
            "0        10107               30      95.70                2  2871.00   \n",
            "1        10121               34      81.35                5  2765.90   \n",
            "2        10134               41      94.74                2  3884.34   \n",
            "3        10145               45      83.26                6  3746.70   \n",
            "4        10159               49     100.00               14  5205.27   \n",
            "\n",
            "         ORDERDATE   STATUS  QTR_ID  MONTH_ID  YEAR_ID  ...  \\\n",
            "0   2/24/2003 0:00  Shipped       1         2     2003  ...   \n",
            "1    5/7/2003 0:00  Shipped       2         5     2003  ...   \n",
            "2    7/1/2003 0:00  Shipped       3         7     2003  ...   \n",
            "3   8/25/2003 0:00  Shipped       3         8     2003  ...   \n",
            "4  10/10/2003 0:00  Shipped       4        10     2003  ...   \n",
            "\n",
            "                    ADDRESSLINE1  ADDRESSLINE2           CITY STATE  \\\n",
            "0        897 Long Airport Avenue           NaN            NYC    NY   \n",
            "1             59 rue de l'Abbaye           NaN          Reims   NaN   \n",
            "2  27 rue du Colonel Pierre Avia           NaN          Paris   NaN   \n",
            "3             78934 Hillside Dr.           NaN       Pasadena    CA   \n",
            "4                7734 Strong St.           NaN  San Francisco    CA   \n",
            "\n",
            "  POSTALCODE COUNTRY TERRITORY CONTACTLASTNAME CONTACTFIRSTNAME DEALSIZE  \n",
            "0      10022     USA       NaN              Yu             Kwai    Small  \n",
            "1      51100  France      EMEA         Henriot             Paul    Small  \n",
            "2      75508  France      EMEA        Da Cunha           Daniel   Medium  \n",
            "3      90003     USA       NaN           Young            Julie   Medium  \n",
            "4        NaN     USA       NaN           Brown            Julie   Medium  \n",
            "\n",
            "[5 rows x 25 columns]\n"
          ]
        }
      ]
    },
    {
      "cell_type": "code",
      "source": [
        "#counting the different cities and countries available\n",
        "country_count = sales_duplicates[\"COUNTRY\"].value_counts()\n",
        "print(country_count)"
      ],
      "metadata": {
        "colab": {
          "base_uri": "https://localhost:8080/"
        },
        "id": "AzjI-0bEik1J",
        "outputId": "06e05ee1-656d-491c-d338-ff8ac3dd45fc"
      },
      "execution_count": null,
      "outputs": [
        {
          "output_type": "stream",
          "name": "stdout",
          "text": [
            "USA            23\n",
            "France          9\n",
            "Australia       5\n",
            "UK              4\n",
            "Germany         3\n",
            "Norway          3\n",
            "Finland         3\n",
            "Spain           3\n",
            "Canada          3\n",
            "Italy           3\n",
            "Austria         2\n",
            "Sweden          2\n",
            "Japan           2\n",
            "Denmark         2\n",
            "Belgium         2\n",
            "Switzerland     1\n",
            "Singapore       1\n",
            "Philippines     1\n",
            "Ireland         1\n",
            "Name: COUNTRY, dtype: int64\n"
          ]
        }
      ]
    },
    {
      "cell_type": "code",
      "source": [
        "#Get the proportion of the different cities , in descending order\n",
        "country_prop = sales_data[\"COUNTRY\"].value_counts(sort=True , normalize=True)\n",
        "print(country_prop)"
      ],
      "metadata": {
        "colab": {
          "base_uri": "https://localhost:8080/"
        },
        "id": "AiSLJctFotF4",
        "outputId": "85434a17-e87a-4a96-a60b-0e215575949b"
      },
      "execution_count": null,
      "outputs": [
        {
          "output_type": "stream",
          "name": "stdout",
          "text": [
            "USA            0.355650\n",
            "Spain          0.121148\n",
            "France         0.111229\n",
            "Australia      0.065533\n",
            "UK             0.051010\n",
            "Italy          0.040028\n",
            "Finland        0.032589\n",
            "Norway         0.030110\n",
            "Singapore      0.027984\n",
            "Canada         0.024796\n",
            "Denmark        0.022317\n",
            "Germany        0.021962\n",
            "Sweden         0.020191\n",
            "Austria        0.019483\n",
            "Japan          0.018420\n",
            "Belgium        0.011690\n",
            "Switzerland    0.010981\n",
            "Philippines    0.009210\n",
            "Ireland        0.005668\n",
            "Name: COUNTRY, dtype: float64\n"
          ]
        }
      ]
    },
    {
      "cell_type": "markdown",
      "source": [
        "**Group by **"
      ],
      "metadata": {
        "id": "4yYM_LRMzila"
      }
    },
    {
      "cell_type": "code",
      "source": [
        "#getting total sales\n",
        "sales_sum = sales_data[\"SALES\"].sum()\n",
        "print(sales_sum)"
      ],
      "metadata": {
        "colab": {
          "base_uri": "https://localhost:8080/"
        },
        "id": "D7Mc5rBl6IU_",
        "outputId": "fba3d813-394a-4ed5-f2fb-5f32fbfa120a"
      },
      "execution_count": null,
      "outputs": [
        {
          "output_type": "stream",
          "name": "stdout",
          "text": [
            "10032628.85\n"
          ]
        }
      ]
    },
    {
      "cell_type": "code",
      "source": [
        "#getting sales for by a selection\n",
        "sales_USA = sales_data[sales_data[\"COUNTRY\"] == \"USA\"][\"SALES\"].sum()\n",
        "print(sales_USA)"
      ],
      "metadata": {
        "colab": {
          "base_uri": "https://localhost:8080/"
        },
        "id": "iA25PAn56cKW",
        "outputId": "8a492294-6e3e-4d05-ac65-8ee90214e88f"
      },
      "execution_count": null,
      "outputs": [
        {
          "output_type": "stream",
          "name": "stdout",
          "text": [
            "3627982.83\n"
          ]
        }
      ]
    },
    {
      "cell_type": "code",
      "source": [
        "#getting the proportion of the data (percentage)\n",
        "sales_USA_pro = sales_USA / sales_sum\n",
        "print(sales_USA_pro)"
      ],
      "metadata": {
        "colab": {
          "base_uri": "https://localhost:8080/"
        },
        "id": "4EP5kqkI6wFG",
        "outputId": "ead25765-0cfb-45ae-f85a-ddfeb579aa04"
      },
      "execution_count": null,
      "outputs": [
        {
          "output_type": "stream",
          "name": "stdout",
          "text": [
            "0.36161836386482094\n"
          ]
        }
      ]
    },
    {
      "cell_type": "code",
      "source": [
        "#getting sales by a group of two columns\n",
        "sales_grouped = sales_data.groupby([\"CITY\",\"COUNTRY\"])[\"SALES\"].sum()\n",
        "print(sales_grouped)"
      ],
      "metadata": {
        "colab": {
          "base_uri": "https://localhost:8080/"
        },
        "id": "bJ3warfN993Q",
        "outputId": "f0e68f7b-da1a-4b45-9cdd-de88c8ee614b"
      },
      "execution_count": null,
      "outputs": [
        {
          "output_type": "stream",
          "name": "stdout",
          "text": [
            "CITY          COUNTRY\n",
            "Aaarhus       Denmark    100595.55\n",
            "Allentown     USA        122138.14\n",
            "Barcelona     Spain       78411.86\n",
            "Bergamo       Italy      137955.72\n",
            "Bergen        Norway     111640.28\n",
            "                           ...    \n",
            "Toulouse      France      70488.44\n",
            "Tsawassen     Canada      74634.85\n",
            "Vancouver     Canada      75238.92\n",
            "Versailles    France      64834.32\n",
            "White Plains  USA         85555.99\n",
            "Name: SALES, Length: 73, dtype: float64\n"
          ]
        }
      ]
    },
    {
      "cell_type": "code",
      "source": [
        "#proporting contributiom of each grouped selection\n",
        "sales_prop_groups = sales_grouped / sum(sales_grouped)\n",
        "print(sales_prop_groups)"
      ],
      "metadata": {
        "colab": {
          "base_uri": "https://localhost:8080/"
        },
        "id": "OBcmAfK5-2AV",
        "outputId": "f171ed21-f4df-420a-8892-d2d93939bbc2"
      },
      "execution_count": null,
      "outputs": [
        {
          "output_type": "stream",
          "name": "stdout",
          "text": [
            "CITY          COUNTRY\n",
            "Aaarhus       Denmark    0.010027\n",
            "Allentown     USA        0.012174\n",
            "Barcelona     Spain      0.007816\n",
            "Bergamo       Italy      0.013751\n",
            "Bergen        Norway     0.011128\n",
            "                           ...   \n",
            "Toulouse      France     0.007026\n",
            "Tsawassen     Canada     0.007439\n",
            "Vancouver     Canada     0.007499\n",
            "Versailles    France     0.006462\n",
            "White Plains  USA        0.008528\n",
            "Name: SALES, Length: 73, dtype: float64\n"
          ]
        }
      ]
    },
    {
      "cell_type": "markdown",
      "source": [
        "**Grouping on multiple selections** : .agg() method is useful to compute multiple statistics on multiple variables. It also works with grouped data. NumPy, which is imported as np, has many different summary statistics functions, including: np.min, np.max, np.mean, and np.median."
      ],
      "metadata": {
        "id": "BPANaEZ-_uha"
      }
    },
    {
      "cell_type": "code",
      "source": [
        "#getting the max, min, median, mean suing teh agregate function\n",
        "import numpy as np\n",
        "sales_stats = sales_data.groupby(\"CITY\")[\"SALES\"].agg([np.max,np.min,np.mean,np.median])\n",
        "print(sales_stats)"
      ],
      "metadata": {
        "colab": {
          "base_uri": "https://localhost:8080/"
        },
        "id": "JPAG7JzrCD0X",
        "outputId": "b56636f4-23af-4f6f-9a17-9c69db8fd782"
      },
      "execution_count": null,
      "outputs": [
        {
          "output_type": "stream",
          "name": "stdout",
          "text": [
            "                  amax     amin         mean    median\n",
            "CITY                                                  \n",
            "Aaarhus        7975.44  1226.59  3725.761111  3148.200\n",
            "Allentown      7962.24   813.20  3939.940000  3116.430\n",
            "Barcelona      6482.85  1209.59  3409.211304  3390.800\n",
            "Bergamo        5279.40   977.43  2874.077500  2784.660\n",
            "Bergen         8714.70  1345.68  3849.664828  3660.920\n",
            "...                ...      ...          ...       ...\n",
            "Toulouse       8331.61  1463.00  3524.422000  3321.880\n",
            "Tsawassen      5795.54  1449.35  2870.571154  2611.535\n",
            "Vancouver      9064.89  1119.93  3419.950909  3093.885\n",
            "Versailles    10172.70   694.60  3601.906667  3438.960\n",
            "White Plains   7620.50   905.28  3290.615000  3072.045\n",
            "\n",
            "[73 rows x 4 columns]\n"
          ]
        }
      ]
    },
    {
      "cell_type": "markdown",
      "source": [
        "**Pivot tables** : Another way of calculating grouped statistics. It takes the mean value for each group. For a different function , use aggfunc and pass the stat to be calculated . For missing values , we can use the fill_value argument.And usng the margins = True , we can get the stastics of the summary data (median ) or mean\n",
        "Pivot tables are the standard way of aggregating data in spreadsheets. In pandas, pivot tables are essentially just another way of performing grouped calculations. That is, the .pivot_table() method is just an alternative to .groupby().\n",
        "*  values : is the column to be summarised\n",
        "*  index : is the column to be grouped by"
      ],
      "metadata": {
        "id": "lLwHpga8Crbl"
      }
    },
    {
      "cell_type": "code",
      "source": [
        "#using the pivot tables function\n",
        "sales_city_pivot  = sales_data.pivot_table(values=\"SALES\", index=\"CITY\" , columns=\"COUNTRY\")\n",
        "print(sales_city_pivot)"
      ],
      "metadata": {
        "colab": {
          "base_uri": "https://localhost:8080/"
        },
        "id": "JmaH_OEFCy5w",
        "outputId": "480689ce-a97f-478c-a2f7-81599a67b5ba"
      },
      "execution_count": null,
      "outputs": [
        {
          "output_type": "stream",
          "name": "stdout",
          "text": [
            "COUNTRY       Australia  Austria  Belgium       Canada      Denmark  Finland  \\\n",
            "CITY                                                                           \n",
            "Aaarhus             NaN      NaN      NaN          NaN  3725.761111      NaN   \n",
            "Allentown           NaN      NaN      NaN          NaN          NaN      NaN   \n",
            "Barcelona           NaN      NaN      NaN          NaN          NaN      NaN   \n",
            "Bergamo             NaN      NaN      NaN          NaN          NaN      NaN   \n",
            "Bergen              NaN      NaN      NaN          NaN          NaN      NaN   \n",
            "...                 ...      ...      ...          ...          ...      ...   \n",
            "Toulouse            NaN      NaN      NaN          NaN          NaN      NaN   \n",
            "Tsawassen           NaN      NaN      NaN  2870.571154          NaN      NaN   \n",
            "Vancouver           NaN      NaN      NaN  3419.950909          NaN      NaN   \n",
            "Versailles          NaN      NaN      NaN          NaN          NaN      NaN   \n",
            "White Plains        NaN      NaN      NaN          NaN          NaN      NaN   \n",
            "\n",
            "COUNTRY            France  Germany  Ireland      Italy  Japan       Norway  \\\n",
            "CITY                                                                         \n",
            "Aaarhus               NaN      NaN      NaN        NaN    NaN          NaN   \n",
            "Allentown             NaN      NaN      NaN        NaN    NaN          NaN   \n",
            "Barcelona             NaN      NaN      NaN        NaN    NaN          NaN   \n",
            "Bergamo               NaN      NaN      NaN  2874.0775    NaN          NaN   \n",
            "Bergen                NaN      NaN      NaN        NaN    NaN  3849.664828   \n",
            "...                   ...      ...      ...        ...    ...          ...   \n",
            "Toulouse      3524.422000      NaN      NaN        NaN    NaN          NaN   \n",
            "Tsawassen             NaN      NaN      NaN        NaN    NaN          NaN   \n",
            "Vancouver             NaN      NaN      NaN        NaN    NaN          NaN   \n",
            "Versailles    3601.906667      NaN      NaN        NaN    NaN          NaN   \n",
            "White Plains          NaN      NaN      NaN        NaN    NaN          NaN   \n",
            "\n",
            "COUNTRY       Philippines  Singapore        Spain  Sweden  Switzerland  UK  \\\n",
            "CITY                                                                         \n",
            "Aaarhus               NaN        NaN          NaN     NaN          NaN NaN   \n",
            "Allentown             NaN        NaN          NaN     NaN          NaN NaN   \n",
            "Barcelona             NaN        NaN  3409.211304     NaN          NaN NaN   \n",
            "Bergamo               NaN        NaN          NaN     NaN          NaN NaN   \n",
            "Bergen                NaN        NaN          NaN     NaN          NaN NaN   \n",
            "...                   ...        ...          ...     ...          ...  ..   \n",
            "Toulouse              NaN        NaN          NaN     NaN          NaN NaN   \n",
            "Tsawassen             NaN        NaN          NaN     NaN          NaN NaN   \n",
            "Vancouver             NaN        NaN          NaN     NaN          NaN NaN   \n",
            "Versailles            NaN        NaN          NaN     NaN          NaN NaN   \n",
            "White Plains          NaN        NaN          NaN     NaN          NaN NaN   \n",
            "\n",
            "COUNTRY            USA  \n",
            "CITY                    \n",
            "Aaarhus            NaN  \n",
            "Allentown     3939.940  \n",
            "Barcelona          NaN  \n",
            "Bergamo            NaN  \n",
            "Bergen             NaN  \n",
            "...                ...  \n",
            "Toulouse           NaN  \n",
            "Tsawassen          NaN  \n",
            "Vancouver          NaN  \n",
            "Versailles         NaN  \n",
            "White Plains  3290.615  \n",
            "\n",
            "[73 rows x 19 columns]\n"
          ]
        }
      ]
    },
    {
      "cell_type": "code",
      "source": [
        "## Print the mean sales by city and country; fill missing values with 0s; sum all rows and cols\n",
        "sales_city_pivot  = sales_data.pivot_table(values=\"SALES\", index=\"CITY\" , columns=\"COUNTRY\", fill_value=0 , margins=True)\n",
        "print(sales_city_pivot)"
      ],
      "metadata": {
        "colab": {
          "base_uri": "https://localhost:8080/"
        },
        "id": "6M54VjGwH8vn",
        "outputId": "0744c256-6d77-4b53-9f10-6bfd0500c233"
      },
      "execution_count": null,
      "outputs": [
        {
          "output_type": "stream",
          "name": "stdout",
          "text": [
            "COUNTRY         Australia      Austria      Belgium       Canada      Denmark  \\\n",
            "CITY                                                                            \n",
            "Aaarhus          0.000000     0.000000     0.000000     0.000000  3725.761111   \n",
            "Allentown        0.000000     0.000000     0.000000     0.000000     0.000000   \n",
            "Barcelona        0.000000     0.000000     0.000000     0.000000     0.000000   \n",
            "Bergamo          0.000000     0.000000     0.000000     0.000000     0.000000   \n",
            "Bergen           0.000000     0.000000     0.000000     0.000000     0.000000   \n",
            "...                   ...          ...          ...          ...          ...   \n",
            "Tsawassen        0.000000     0.000000     0.000000  2870.571154     0.000000   \n",
            "Vancouver        0.000000     0.000000     0.000000  3419.950909     0.000000   \n",
            "Versailles       0.000000     0.000000     0.000000     0.000000     0.000000   \n",
            "White Plains     0.000000     0.000000     0.000000     0.000000     0.000000   \n",
            "All           3408.773514  3673.864182  3285.230909  3201.122286  3899.002381   \n",
            "\n",
            "COUNTRY           Finland       France      Germany      Ireland        Italy  \\\n",
            "CITY                                                                            \n",
            "Aaarhus          0.000000     0.000000     0.000000     0.000000     0.000000   \n",
            "Allentown        0.000000     0.000000     0.000000     0.000000     0.000000   \n",
            "Barcelona        0.000000     0.000000     0.000000     0.000000     0.000000   \n",
            "Bergamo          0.000000     0.000000     0.000000     0.000000  2874.077500   \n",
            "Bergen           0.000000     0.000000     0.000000     0.000000     0.000000   \n",
            "...                   ...          ...          ...          ...          ...   \n",
            "Tsawassen        0.000000     0.000000     0.000000     0.000000     0.000000   \n",
            "Vancouver        0.000000     0.000000     0.000000     0.000000     0.000000   \n",
            "Versailles       0.000000  3601.906667     0.000000     0.000000     0.000000   \n",
            "White Plains     0.000000     0.000000     0.000000     0.000000     0.000000   \n",
            "All           3582.412065  3537.950701  3556.001452  3609.776875  3315.701858   \n",
            "\n",
            "COUNTRY             Japan       Norway  Philippines    Singapore        Spain  \\\n",
            "CITY                                                                            \n",
            "Aaarhus          0.000000     0.000000     0.000000     0.000000     0.000000   \n",
            "Allentown        0.000000     0.000000     0.000000     0.000000     0.000000   \n",
            "Barcelona        0.000000     0.000000     0.000000     0.000000  3409.211304   \n",
            "Bergamo          0.000000     0.000000     0.000000     0.000000     0.000000   \n",
            "Bergen           0.000000  3849.664828     0.000000     0.000000     0.000000   \n",
            "...                   ...          ...          ...          ...          ...   \n",
            "Tsawassen        0.000000     0.000000     0.000000     0.000000     0.000000   \n",
            "Vancouver        0.000000     0.000000     0.000000     0.000000     0.000000   \n",
            "Versailles       0.000000     0.000000     0.000000     0.000000     0.000000   \n",
            "White Plains     0.000000     0.000000     0.000000     0.000000     0.000000   \n",
            "All           3618.611731  3617.220000  3615.989615  3651.752025  3554.640117   \n",
            "\n",
            "COUNTRY            Sweden  Switzerland          UK          USA          All  \n",
            "CITY                                                                          \n",
            "Aaarhus          0.000000     0.000000     0.00000     0.000000  3725.761111  \n",
            "Allentown        0.000000     0.000000     0.00000  3939.940000  3939.940000  \n",
            "Barcelona        0.000000     0.000000     0.00000     0.000000  3409.211304  \n",
            "Bergamo          0.000000     0.000000     0.00000     0.000000  2874.077500  \n",
            "Bergen           0.000000     0.000000     0.00000     0.000000  3849.664828  \n",
            "...                   ...          ...         ...          ...          ...  \n",
            "Tsawassen        0.000000     0.000000     0.00000     0.000000  2870.571154  \n",
            "Vancouver        0.000000     0.000000     0.00000     0.000000  3419.950909  \n",
            "Versailles       0.000000     0.000000     0.00000     0.000000  3601.906667  \n",
            "White Plains     0.000000     0.000000     0.00000  3290.615000  3290.615000  \n",
            "All           3684.459825  3797.211613  3325.55875  3613.528715  3553.889072  \n",
            "\n",
            "[74 rows x 20 columns]\n"
          ]
        }
      ]
    },
    {
      "cell_type": "markdown",
      "source": [
        "**Slicing and indexing dataframes** : Indexing makes subsetting simpler\n",
        "loc filters on index valuespassed a list"
      ],
      "metadata": {
        "id": "i8_PYt9V0Edl"
      }
    },
    {
      "cell_type": "code",
      "source": [
        "#setting the city as the index\n",
        "city_index = sales_data.set_index(\"CITY\")\n",
        "print(city_index.head())"
      ],
      "metadata": {
        "colab": {
          "base_uri": "https://localhost:8080/"
        },
        "id": "98FOPv6PCqjU",
        "outputId": "debc79ed-3422-4b9c-f7bd-2f691d71698d"
      },
      "execution_count": null,
      "outputs": [
        {
          "output_type": "stream",
          "name": "stdout",
          "text": [
            "               ORDERNUMBER  QUANTITYORDERED  PRICEEACH  ORDERLINENUMBER  \\\n",
            "CITY                                                                      \n",
            "NYC                  10107               30      95.70                2   \n",
            "Reims                10121               34      81.35                5   \n",
            "Paris                10134               41      94.74                2   \n",
            "Pasadena             10145               45      83.26                6   \n",
            "San Francisco        10159               49     100.00               14   \n",
            "\n",
            "                 SALES        ORDERDATE   STATUS  QTR_ID  MONTH_ID  YEAR_ID  \\\n",
            "CITY                                                                          \n",
            "NYC            2871.00   2/24/2003 0:00  Shipped       1         2     2003   \n",
            "Reims          2765.90    5/7/2003 0:00  Shipped       2         5     2003   \n",
            "Paris          3884.34    7/1/2003 0:00  Shipped       3         7     2003   \n",
            "Pasadena       3746.70   8/25/2003 0:00  Shipped       3         8     2003   \n",
            "San Francisco  5205.27  10/10/2003 0:00  Shipped       4        10     2003   \n",
            "\n",
            "               ...             PHONE                   ADDRESSLINE1  \\\n",
            "CITY           ...                                                    \n",
            "NYC            ...        2125557818        897 Long Airport Avenue   \n",
            "Reims          ...        26.47.1555             59 rue de l'Abbaye   \n",
            "Paris          ...  +33 1 46 62 7555  27 rue du Colonel Pierre Avia   \n",
            "Pasadena       ...        6265557265             78934 Hillside Dr.   \n",
            "San Francisco  ...        6505551386                7734 Strong St.   \n",
            "\n",
            "              ADDRESSLINE2 STATE POSTALCODE COUNTRY TERRITORY CONTACTLASTNAME  \\\n",
            "CITY                                                                            \n",
            "NYC                    NaN    NY      10022     USA       NaN              Yu   \n",
            "Reims                  NaN   NaN      51100  France      EMEA         Henriot   \n",
            "Paris                  NaN   NaN      75508  France      EMEA        Da Cunha   \n",
            "Pasadena               NaN    CA      90003     USA       NaN           Young   \n",
            "San Francisco          NaN    CA        NaN     USA       NaN           Brown   \n",
            "\n",
            "              CONTACTFIRSTNAME DEALSIZE  \n",
            "CITY                                     \n",
            "NYC                       Kwai    Small  \n",
            "Reims                     Paul    Small  \n",
            "Paris                   Daniel   Medium  \n",
            "Pasadena                 Julie   Medium  \n",
            "San Francisco            Julie   Medium  \n",
            "\n",
            "[5 rows x 24 columns]\n"
          ]
        }
      ]
    },
    {
      "cell_type": "code",
      "source": [
        "#resetting the index\n",
        "city_reset_index = city_index.reset_index()\n",
        "print(city_index)"
      ],
      "metadata": {
        "colab": {
          "base_uri": "https://localhost:8080/"
        },
        "id": "DvyY3O-B-91F",
        "outputId": "86e05bf6-3c42-4d8f-c116-e57068c1d1cf"
      },
      "execution_count": null,
      "outputs": [
        {
          "output_type": "stream",
          "name": "stdout",
          "text": [
            "               ORDERNUMBER  QUANTITYORDERED  PRICEEACH  ORDERLINENUMBER  \\\n",
            "CITY                                                                      \n",
            "NYC                  10107               30      95.70                2   \n",
            "Reims                10121               34      81.35                5   \n",
            "Paris                10134               41      94.74                2   \n",
            "Pasadena             10145               45      83.26                6   \n",
            "San Francisco        10159               49     100.00               14   \n",
            "...                    ...              ...        ...              ...   \n",
            "Madrid               10350               20     100.00               15   \n",
            "Oulu                 10373               29     100.00                1   \n",
            "Madrid               10386               43     100.00                4   \n",
            "Toulouse             10397               34      62.24                1   \n",
            "Boston               10414               47      65.52                9   \n",
            "\n",
            "                 SALES        ORDERDATE    STATUS  QTR_ID  MONTH_ID  YEAR_ID  \\\n",
            "CITY                                                                           \n",
            "NYC            2871.00   2/24/2003 0:00   Shipped       1         2     2003   \n",
            "Reims          2765.90    5/7/2003 0:00   Shipped       2         5     2003   \n",
            "Paris          3884.34    7/1/2003 0:00   Shipped       3         7     2003   \n",
            "Pasadena       3746.70   8/25/2003 0:00   Shipped       3         8     2003   \n",
            "San Francisco  5205.27  10/10/2003 0:00   Shipped       4        10     2003   \n",
            "...                ...              ...       ...     ...       ...      ...   \n",
            "Madrid         2244.40   12/2/2004 0:00   Shipped       4        12     2004   \n",
            "Oulu           3978.51   1/31/2005 0:00   Shipped       1         1     2005   \n",
            "Madrid         5417.57    3/1/2005 0:00  Resolved       1         3     2005   \n",
            "Toulouse       2116.16   3/28/2005 0:00   Shipped       1         3     2005   \n",
            "Boston         3079.44    5/6/2005 0:00   On Hold       2         5     2005   \n",
            "\n",
            "               ...             PHONE                   ADDRESSLINE1  \\\n",
            "CITY           ...                                                    \n",
            "NYC            ...        2125557818        897 Long Airport Avenue   \n",
            "Reims          ...        26.47.1555             59 rue de l'Abbaye   \n",
            "Paris          ...  +33 1 46 62 7555  27 rue du Colonel Pierre Avia   \n",
            "Pasadena       ...        6265557265             78934 Hillside Dr.   \n",
            "San Francisco  ...        6505551386                7734 Strong St.   \n",
            "...            ...               ...                            ...   \n",
            "Madrid         ...    (91) 555 94 44             C/ Moralzarzal, 86   \n",
            "Oulu           ...        981-443655                    Torikatu 38   \n",
            "Madrid         ...    (91) 555 94 44             C/ Moralzarzal, 86   \n",
            "Toulouse       ...        61.77.6555          1 rue Alsace-Lorraine   \n",
            "Boston         ...        6175559555             8616 Spinnaker Dr.   \n",
            "\n",
            "              ADDRESSLINE2 STATE POSTALCODE  COUNTRY TERRITORY  \\\n",
            "CITY                                                             \n",
            "NYC                    NaN    NY      10022      USA       NaN   \n",
            "Reims                  NaN   NaN      51100   France      EMEA   \n",
            "Paris                  NaN   NaN      75508   France      EMEA   \n",
            "Pasadena               NaN    CA      90003      USA       NaN   \n",
            "San Francisco          NaN    CA        NaN      USA       NaN   \n",
            "...                    ...   ...        ...      ...       ...   \n",
            "Madrid                 NaN   NaN      28034    Spain      EMEA   \n",
            "Oulu                   NaN   NaN      90110  Finland      EMEA   \n",
            "Madrid                 NaN   NaN      28034    Spain      EMEA   \n",
            "Toulouse               NaN   NaN      31000   France      EMEA   \n",
            "Boston                 NaN    MA      51003      USA       NaN   \n",
            "\n",
            "              CONTACTLASTNAME CONTACTFIRSTNAME DEALSIZE  \n",
            "CITY                                                     \n",
            "NYC                        Yu             Kwai    Small  \n",
            "Reims                 Henriot             Paul    Small  \n",
            "Paris                Da Cunha           Daniel   Medium  \n",
            "Pasadena                Young            Julie   Medium  \n",
            "San Francisco           Brown            Julie   Medium  \n",
            "...                       ...              ...      ...  \n",
            "Madrid                 Freyre            Diego    Small  \n",
            "Oulu                Koskitalo           Pirkko   Medium  \n",
            "Madrid                 Freyre            Diego   Medium  \n",
            "Toulouse               Roulet          Annette    Small  \n",
            "Boston                Yoshido             Juri   Medium  \n",
            "\n",
            "[2823 rows x 24 columns]\n"
          ]
        }
      ]
    },
    {
      "cell_type": "code",
      "source": [
        "# Reset the index, dropping its contents\n",
        "print(city_index.reset_index(drop=True))"
      ],
      "metadata": {
        "colab": {
          "base_uri": "https://localhost:8080/"
        },
        "id": "vhIJ-Maf_MvS",
        "outputId": "e951b46a-6c72-41ab-c1af-c445df8bf78e"
      },
      "execution_count": null,
      "outputs": [
        {
          "output_type": "stream",
          "name": "stdout",
          "text": [
            "      ORDERNUMBER  QUANTITYORDERED  PRICEEACH  ORDERLINENUMBER    SALES  \\\n",
            "0           10107               30      95.70                2  2871.00   \n",
            "1           10121               34      81.35                5  2765.90   \n",
            "2           10134               41      94.74                2  3884.34   \n",
            "3           10145               45      83.26                6  3746.70   \n",
            "4           10159               49     100.00               14  5205.27   \n",
            "...           ...              ...        ...              ...      ...   \n",
            "2818        10350               20     100.00               15  2244.40   \n",
            "2819        10373               29     100.00                1  3978.51   \n",
            "2820        10386               43     100.00                4  5417.57   \n",
            "2821        10397               34      62.24                1  2116.16   \n",
            "2822        10414               47      65.52                9  3079.44   \n",
            "\n",
            "            ORDERDATE    STATUS  QTR_ID  MONTH_ID  YEAR_ID  ...  \\\n",
            "0      2/24/2003 0:00   Shipped       1         2     2003  ...   \n",
            "1       5/7/2003 0:00   Shipped       2         5     2003  ...   \n",
            "2       7/1/2003 0:00   Shipped       3         7     2003  ...   \n",
            "3      8/25/2003 0:00   Shipped       3         8     2003  ...   \n",
            "4     10/10/2003 0:00   Shipped       4        10     2003  ...   \n",
            "...               ...       ...     ...       ...      ...  ...   \n",
            "2818   12/2/2004 0:00   Shipped       4        12     2004  ...   \n",
            "2819   1/31/2005 0:00   Shipped       1         1     2005  ...   \n",
            "2820    3/1/2005 0:00  Resolved       1         3     2005  ...   \n",
            "2821   3/28/2005 0:00   Shipped       1         3     2005  ...   \n",
            "2822    5/6/2005 0:00   On Hold       2         5     2005  ...   \n",
            "\n",
            "                 PHONE                   ADDRESSLINE1 ADDRESSLINE2 STATE  \\\n",
            "0           2125557818        897 Long Airport Avenue          NaN    NY   \n",
            "1           26.47.1555             59 rue de l'Abbaye          NaN   NaN   \n",
            "2     +33 1 46 62 7555  27 rue du Colonel Pierre Avia          NaN   NaN   \n",
            "3           6265557265             78934 Hillside Dr.          NaN    CA   \n",
            "4           6505551386                7734 Strong St.          NaN    CA   \n",
            "...                ...                            ...          ...   ...   \n",
            "2818    (91) 555 94 44             C/ Moralzarzal, 86          NaN   NaN   \n",
            "2819        981-443655                    Torikatu 38          NaN   NaN   \n",
            "2820    (91) 555 94 44             C/ Moralzarzal, 86          NaN   NaN   \n",
            "2821        61.77.6555          1 rue Alsace-Lorraine          NaN   NaN   \n",
            "2822        6175559555             8616 Spinnaker Dr.          NaN    MA   \n",
            "\n",
            "     POSTALCODE  COUNTRY TERRITORY CONTACTLASTNAME CONTACTFIRSTNAME DEALSIZE  \n",
            "0         10022      USA       NaN              Yu             Kwai    Small  \n",
            "1         51100   France      EMEA         Henriot             Paul    Small  \n",
            "2         75508   France      EMEA        Da Cunha           Daniel   Medium  \n",
            "3         90003      USA       NaN           Young            Julie   Medium  \n",
            "4           NaN      USA       NaN           Brown            Julie   Medium  \n",
            "...         ...      ...       ...             ...              ...      ...  \n",
            "2818      28034    Spain      EMEA          Freyre            Diego    Small  \n",
            "2819      90110  Finland      EMEA       Koskitalo           Pirkko   Medium  \n",
            "2820      28034    Spain      EMEA          Freyre            Diego   Medium  \n",
            "2821      31000   France      EMEA          Roulet          Annette    Small  \n",
            "2822      51003      USA       NaN         Yoshido             Juri   Medium  \n",
            "\n",
            "[2823 rows x 24 columns]\n"
          ]
        }
      ]
    },
    {
      "cell_type": "markdown",
      "source": [
        "**Subsetting with .loc[]**\n",
        "The killer feature for indexes is .loc[]: a subsetting method that accepts index values. When you pass it a single argument, it will take a subset of rows.\n",
        "\n",
        "The code for subsetting using .loc[] can be easier to read than standard square bracket subsetting, which can make your code less burdensome to maintain."
      ],
      "metadata": {
        "id": "8p5FiGcUAQ36"
      }
    },
    {
      "cell_type": "code",
      "source": [
        "#create a list of countries to subset on\n",
        "countries = [\"USA\",\"Spain\",\"France\"]\n",
        "#subset the countries\n",
        "print(sales_data[sales_data[\"COUNTRY\"].isin(countries)])\n"
      ],
      "metadata": {
        "colab": {
          "base_uri": "https://localhost:8080/"
        },
        "id": "KCui-Uo9_w8x",
        "outputId": "b6e9626f-0319-4df5-ab07-ec76dba52d99"
      },
      "execution_count": null,
      "outputs": [
        {
          "output_type": "stream",
          "name": "stdout",
          "text": [
            "      ORDERNUMBER  QUANTITYORDERED  PRICEEACH  ORDERLINENUMBER    SALES  \\\n",
            "0           10107               30      95.70                2  2871.00   \n",
            "1           10121               34      81.35                5  2765.90   \n",
            "2           10134               41      94.74                2  3884.34   \n",
            "3           10145               45      83.26                6  3746.70   \n",
            "4           10159               49     100.00               14  5205.27   \n",
            "...           ...              ...        ...              ...      ...   \n",
            "2817        10337               42      97.16                5  4080.72   \n",
            "2818        10350               20     100.00               15  2244.40   \n",
            "2820        10386               43     100.00                4  5417.57   \n",
            "2821        10397               34      62.24                1  2116.16   \n",
            "2822        10414               47      65.52                9  3079.44   \n",
            "\n",
            "            ORDERDATE    STATUS  QTR_ID  MONTH_ID  YEAR_ID  ...  \\\n",
            "0      2/24/2003 0:00   Shipped       1         2     2003  ...   \n",
            "1       5/7/2003 0:00   Shipped       2         5     2003  ...   \n",
            "2       7/1/2003 0:00   Shipped       3         7     2003  ...   \n",
            "3      8/25/2003 0:00   Shipped       3         8     2003  ...   \n",
            "4     10/10/2003 0:00   Shipped       4        10     2003  ...   \n",
            "...               ...       ...     ...       ...      ...  ...   \n",
            "2817  11/21/2004 0:00   Shipped       4        11     2004  ...   \n",
            "2818   12/2/2004 0:00   Shipped       4        12     2004  ...   \n",
            "2820    3/1/2005 0:00  Resolved       1         3     2005  ...   \n",
            "2821   3/28/2005 0:00   Shipped       1         3     2005  ...   \n",
            "2822    5/6/2005 0:00   On Hold       2         5     2005  ...   \n",
            "\n",
            "                       ADDRESSLINE1  ADDRESSLINE2           CITY STATE  \\\n",
            "0           897 Long Airport Avenue           NaN            NYC    NY   \n",
            "1                59 rue de l'Abbaye           NaN          Reims   NaN   \n",
            "2     27 rue du Colonel Pierre Avia           NaN          Paris   NaN   \n",
            "3                78934 Hillside Dr.           NaN       Pasadena    CA   \n",
            "4                   7734 Strong St.           NaN  San Francisco    CA   \n",
            "...                             ...           ...            ...   ...   \n",
            "2817               5905 Pompton St.     Suite 750            NYC    NY   \n",
            "2818             C/ Moralzarzal, 86           NaN         Madrid   NaN   \n",
            "2820             C/ Moralzarzal, 86           NaN         Madrid   NaN   \n",
            "2821          1 rue Alsace-Lorraine           NaN       Toulouse   NaN   \n",
            "2822             8616 Spinnaker Dr.           NaN         Boston    MA   \n",
            "\n",
            "     POSTALCODE COUNTRY TERRITORY CONTACTLASTNAME CONTACTFIRSTNAME DEALSIZE  \n",
            "0         10022     USA       NaN              Yu             Kwai    Small  \n",
            "1         51100  France      EMEA         Henriot             Paul    Small  \n",
            "2         75508  France      EMEA        Da Cunha           Daniel   Medium  \n",
            "3         90003     USA       NaN           Young            Julie   Medium  \n",
            "4           NaN     USA       NaN           Brown            Julie   Medium  \n",
            "...         ...     ...       ...             ...              ...      ...  \n",
            "2817      10022     USA       NaN       Hernandez            Maria   Medium  \n",
            "2818      28034   Spain      EMEA          Freyre            Diego    Small  \n",
            "2820      28034   Spain      EMEA          Freyre            Diego   Medium  \n",
            "2821      31000  France      EMEA          Roulet          Annette    Small  \n",
            "2822      51003     USA       NaN         Yoshido             Juri   Medium  \n",
            "\n",
            "[1660 rows x 25 columns]\n"
          ]
        }
      ]
    },
    {
      "cell_type": "code",
      "source": [
        "#print(countries.loc[countries])"
      ],
      "metadata": {
        "id": "3QlAHfkLGt4e"
      },
      "execution_count": null,
      "outputs": []
    },
    {
      "cell_type": "code",
      "source": [],
      "metadata": {
        "id": "N334ICde-gKx"
      },
      "execution_count": null,
      "outputs": []
    },
    {
      "cell_type": "markdown",
      "source": [
        "**Data Visualization**"
      ],
      "metadata": {
        "id": "9lyOFaZE-gyP"
      }
    },
    {
      "cell_type": "code",
      "source": [
        "import matplotlib.pyplot as plt\n",
        "sales_data[\"QUANTITYORDERED\"].hist()\n",
        "plt.show()\n"
      ],
      "metadata": {
        "colab": {
          "base_uri": "https://localhost:8080/",
          "height": 265
        },
        "id": "WWdc6MuJ-oLM",
        "outputId": "98bd7351-b85d-4877-9935-7f6b7596f083"
      },
      "execution_count": null,
      "outputs": [
        {
          "output_type": "display_data",
          "data": {
            "text/plain": [
              "<Figure size 432x288 with 1 Axes>"
            ],
            "image/png": "[encoded data removed]"
          },
          "metadata": {
            "needs_background": "light"
          }
        }
      ]
    },
    {
      "cell_type": "code",
      "source": [
        "avg_sales_country = sales_data.groupby(\"COUNTRY\")[\"SALES\"].mean()\n",
        "print(avg_sales_country)"
      ],
      "metadata": {
        "colab": {
          "base_uri": "https://localhost:8080/"
        },
        "id": "VZv6qQvQKKu2",
        "outputId": "76748bd6-6a8a-4d87-ad62-16fad3f01149"
      },
      "execution_count": null,
      "outputs": [
        {
          "output_type": "stream",
          "name": "stdout",
          "text": [
            "COUNTRY\n",
            "Australia      3408.773514\n",
            "Austria        3673.864182\n",
            "Belgium        3285.230909\n",
            "Canada         3201.122286\n",
            "Denmark        3899.002381\n",
            "Finland        3582.412065\n",
            "France         3537.950701\n",
            "Germany        3556.001452\n",
            "Ireland        3609.776875\n",
            "Italy          3315.701858\n",
            "Japan          3618.611731\n",
            "Norway         3617.220000\n",
            "Philippines    3615.989615\n",
            "Singapore      3651.752025\n",
            "Spain          3554.640117\n",
            "Sweden         3684.459825\n",
            "Switzerland    3797.211613\n",
            "UK             3325.558750\n",
            "USA            3613.528715\n",
            "Name: SALES, dtype: float64\n"
          ]
        }
      ]
    },
    {
      "cell_type": "code",
      "source": [
        "#plotting the bar chat\n",
        "avg_sales_country.plot(kind=\"bar\" , title = \"Mean sales per country\")\n",
        "plt.show()"
      ],
      "metadata": {
        "colab": {
          "base_uri": "https://localhost:8080/",
          "height": 344
        },
        "id": "GyJN4JTmNLMO",
        "outputId": "2ed3b7ba-7b0a-40ef-dcde-1599b8f5a373"
      },
      "execution_count": null,
      "outputs": [
        {
          "output_type": "display_data",
          "data": {
            "text/plain": [
              "<Figure size 432x288 with 1 Axes>"
            ],
            "image/png": "[encoded data removed]"
          },
          "metadata": {
            "needs_background": "light"
          }
        }
      ]
    },
    {
      "cell_type": "code",
      "source": [
        "#plotting a line chart: Changes over time\n",
        "avg_sales = sales_data.plot(x=\"ORDERDATE\" , y=\"SALES\", kind= \"line\", rot=\"45\")\n",
        "plt.show()"
      ],
      "metadata": {
        "colab": {
          "base_uri": "https://localhost:8080/",
          "height": 335
        },
        "id": "mYxkIwDSUjK2",
        "outputId": "94b9e388-39c9-42c7-a6b9-b321f5db6b4b"
      },
      "execution_count": null,
      "outputs": [
        {
          "output_type": "display_data",
          "data": {
            "text/plain": [
              "<Figure size 432x288 with 1 Axes>"
            ],
            "image/png": "[encoded data removed]"
          },
          "metadata": {
            "needs_background": "light"
          }
        }
      ]
    },
    {
      "cell_type": "code",
      "source": [
        "#Scatter plots for visualizing relationships between two numerical variables\n",
        "avg_sales_scatter = sales_data.plot(x=\"QUANTITYORDERED\" , y=\"SALES\", kind= \"scatter\")\n",
        "plt.show()"
      ],
      "metadata": {
        "colab": {
          "base_uri": "https://localhost:8080/",
          "height": 279
        },
        "id": "VGuT9C0faxtJ",
        "outputId": "e536a8f4-c4b3-4565-ba33-6a54c6d86f90"
      },
      "execution_count": null,
      "outputs": [
        {
          "output_type": "display_data",
          "data": {
            "text/plain": [
              "<Figure size 432x288 with 1 Axes>"
            ],
            "image/png": "[encoded data removed]"
          },
          "metadata": {
            "needs_background": "light"
          }
        }
      ]
    },
    {
      "cell_type": "code",
      "source": [
        "#Layering plotz : One plot after another\n",
        "sales_data[sales_data[\"COUNTRY\"] == \"USA\"][\"QUANTITYORDERED\"].hist()\n",
        "sales_data[sales_data[\"COUNTRY\"] == \"France\"][\"QUANTITYORDERED\"].hist()\n",
        "plt.legend([\"USA\",\"France\"])\n",
        "plt.show()"
      ],
      "metadata": {
        "colab": {
          "base_uri": "https://localhost:8080/",
          "height": 265
        },
        "id": "Z84Rk5fPb6FJ",
        "outputId": "9a040365-2f35-44bc-c5e5-3ab1d6573ef5"
      },
      "execution_count": null,
      "outputs": [
        {
          "output_type": "display_data",
          "data": {
            "text/plain": [
              "<Figure size 432x288 with 1 Axes>"
            ],
            "image/png": "[encoded data removed]"
          },
          "metadata": {
            "needs_background": "light"
          }
        }
      ]
    },
    {
      "cell_type": "code",
      "source": [
        "#USING AVOCADO PRICE DATA\n",
        "Avocado_data = pd.read_csv(\"/content/drive/MyDrive/Datasets/avocado.csv\",encoding='cp1252')\n",
        "(Avocado_data.head())"
      ],
      "metadata": {
        "colab": {
          "base_uri": "https://localhost:8080/",
          "height": 354
        },
        "id": "8NZQ8tZOebQm",
        "outputId": "e96afd01-b20a-4176-8ae8-6c9ad012e345"
      },
      "execution_count": null,
      "outputs": [
        {
          "output_type": "execute_result",
          "data": {
            "text/plain": [
              "   Unnamed: 0        Date  AveragePrice  Total Volume     4046       4225  \\\n",
              "0           0  2015-12-27          1.33      64236.62  1036.74   54454.85   \n",
              "1           1  2015-12-20          1.35      54876.98   674.28   44638.81   \n",
              "2           2  2015-12-13          0.93     118220.22   794.70  109149.67   \n",
              "3           3  2015-12-06          1.08      78992.15  1132.00   71976.41   \n",
              "4           4  2015-11-29          1.28      51039.60   941.48   43838.39   \n",
              "\n",
              "     4770  Total Bags  Small Bags  Large Bags  XLarge Bags          type  \\\n",
              "0   48.16     8696.87     8603.62       93.25          0.0  conventional   \n",
              "1   58.33     9505.56     9408.07       97.49          0.0  conventional   \n",
              "2  130.50     8145.35     8042.21      103.14          0.0  conventional   \n",
              "3   72.58     5811.16     5677.40      133.76          0.0  conventional   \n",
              "4   75.78     6183.95     5986.26      197.69          0.0  conventional   \n",
              "\n",
              "   year  region  \n",
              "0  2015  Albany  \n",
              "1  2015  Albany  \n",
              "2  2015  Albany  \n",
              "3  2015  Albany  \n",
              "4  2015  Albany  "
            ],
            "text/html": [
              "\n",
              "  <div id=\"df-cbcfebf9-d2ab-47fe-8f41-f0c543ed9fad\">\n",
              "    <div class=\"colab-df-container\">\n",
              "      <div>\n",
              "<style scoped>\n",
              "    .dataframe tbody tr th:only-of-type {\n",
              "        vertical-align: middle;\n",
              "    }\n",
              "\n",
              "    .dataframe tbody tr th {\n",
              "        vertical-align: top;\n",
              "    }\n",
              "\n",
              "    .dataframe thead th {\n",
              "        text-align: right;\n",
              "    }\n",
              "</style>\n",
              "<table border=\"1\" class=\"dataframe\">\n",
              "  <thead>\n",
              "    <tr style=\"text-align: right;\">\n",
              "      <th></th>\n",
              "      <th>Unnamed: 0</th>\n",
              "      <th>Date</th>\n",
              "      <th>AveragePrice</th>\n",
              "      <th>Total Volume</th>\n",
              "      <th>4046</th>\n",
              "      <th>4225</th>\n",
              "      <th>4770</th>\n",
              "      <th>Total Bags</th>\n",
              "      <th>Small Bags</th>\n",
              "      <th>Large Bags</th>\n",
              "      <th>XLarge Bags</th>\n",
              "      <th>type</th>\n",
              "      <th>year</th>\n",
              "      <th>region</th>\n",
              "    </tr>\n",
              "  </thead>\n",
              "  <tbody>\n",
              "    <tr>\n",
              "      <th>0</th>\n",
              "      <td>0</td>\n",
              "      <td>2015-12-27</td>\n",
              "      <td>1.33</td>\n",
              "      <td>64236.62</td>\n",
              "      <td>1036.74</td>\n",
              "      <td>54454.85</td>\n",
              "      <td>48.16</td>\n",
              "      <td>8696.87</td>\n",
              "      <td>8603.62</td>\n",
              "      <td>93.25</td>\n",
              "      <td>0.0</td>\n",
              "      <td>conventional</td>\n",
              "      <td>2015</td>\n",
              "      <td>Albany</td>\n",
              "    </tr>\n",
              "    <tr>\n",
              "      <th>1</th>\n",
              "      <td>1</td>\n",
              "      <td>2015-12-20</td>\n",
              "      <td>1.35</td>\n",
              "      <td>54876.98</td>\n",
              "      <td>674.28</td>\n",
              "      <td>44638.81</td>\n",
              "      <td>58.33</td>\n",
              "      <td>9505.56</td>\n",
              "      <td>9408.07</td>\n",
              "      <td>97.49</td>\n",
              "      <td>0.0</td>\n",
              "      <td>conventional</td>\n",
              "      <td>2015</td>\n",
              "      <td>Albany</td>\n",
              "    </tr>\n",
              "    <tr>\n",
              "      <th>2</th>\n",
              "      <td>2</td>\n",
              "      <td>2015-12-13</td>\n",
              "      <td>0.93</td>\n",
              "      <td>118220.22</td>\n",
              "      <td>794.70</td>\n",
              "      <td>109149.67</td>\n",
              "      <td>130.50</td>\n",
              "      <td>8145.35</td>\n",
              "      <td>8042.21</td>\n",
              "      <td>103.14</td>\n",
              "      <td>0.0</td>\n",
              "      <td>conventional</td>\n",
              "      <td>2015</td>\n",
              "      <td>Albany</td>\n",
              "    </tr>\n",
              "    <tr>\n",
              "      <th>3</th>\n",
              "      <td>3</td>\n",
              "      <td>2015-12-06</td>\n",
              "      <td>1.08</td>\n",
              "      <td>78992.15</td>\n",
              "      <td>1132.00</td>\n",
              "      <td>71976.41</td>\n",
              "      <td>72.58</td>\n",
              "      <td>5811.16</td>\n",
              "      <td>5677.40</td>\n",
              "      <td>133.76</td>\n",
              "      <td>0.0</td>\n",
              "      <td>conventional</td>\n",
              "      <td>2015</td>\n",
              "      <td>Albany</td>\n",
              "    </tr>\n",
              "    <tr>\n",
              "      <th>4</th>\n",
              "      <td>4</td>\n",
              "      <td>2015-11-29</td>\n",
              "      <td>1.28</td>\n",
              "      <td>51039.60</td>\n",
              "      <td>941.48</td>\n",
              "      <td>43838.39</td>\n",
              "      <td>75.78</td>\n",
              "      <td>6183.95</td>\n",
              "      <td>5986.26</td>\n",
              "      <td>197.69</td>\n",
              "      <td>0.0</td>\n",
              "      <td>conventional</td>\n",
              "      <td>2015</td>\n",
              "      <td>Albany</td>\n",
              "    </tr>\n",
              "  </tbody>\n",
              "</table>\n",
              "</div>\n",
              "      <button class=\"colab-df-convert\" onclick=\"convertToInteractive('df-cbcfebf9-d2ab-47fe-8f41-f0c543ed9fad')\"\n",
              "              title=\"Convert this dataframe to an interactive table.\"\n",
              "              style=\"display:none;\">\n",
              "        \n",
              "  <svg xmlns=\"http://www.w3.org/2000/svg\" height=\"24px\"viewBox=\"0 0 24 24\"\n",
              "       width=\"24px\">\n",
              "    <path d=\"M0 0h24v24H0V0z\" fill=\"none\"/>\n",
              "    <path d=\"M18.56 5.44l.94 2.06.94-2.06 2.06-.94-2.06-.94-.94-2.06-.94 2.06-2.06.94zm-11 1L8.5 8.5l.94-2.06 2.06-.94-2.06-.94L8.5 2.5l-.94 2.06-2.06.94zm10 10l.94 2.06.94-2.06 2.06-.94-2.06-.94-.94-2.06-.94 2.06-2.06.94z\"/><path d=\"M17.41 7.96l-1.37-1.37c-.4-.4-.92-.59-1.43-.59-.52 0-1.04.2-1.43.59L10.3 9.45l-7.72 7.72c-.78.78-.78 2.05 0 2.83L4 21.41c.39.39.9.59 1.41.59.51 0 1.02-.2 1.41-.59l7.78-7.78 2.81-2.81c.8-.78.8-2.07 0-2.86zM5.41 20L4 18.59l7.72-7.72 1.47 1.35L5.41 20z\"/>\n",
              "  </svg>\n",
              "      </button>\n",
              "      \n",
              "  <style>\n",
              "    .colab-df-container {\n",
              "      display:flex;\n",
              "      flex-wrap:wrap;\n",
              "      gap: 12px;\n",
              "    }\n",
              "\n",
              "    .colab-df-convert {\n",
              "      background-color: #E8F0FE;\n",
              "      border: none;\n",
              "      border-radius: 50%;\n",
              "      cursor: pointer;\n",
              "      display: none;\n",
              "      fill: #1967D2;\n",
              "      height: 32px;\n",
              "      padding: 0 0 0 0;\n",
              "      width: 32px;\n",
              "    }\n",
              "\n",
              "    .colab-df-convert:hover {\n",
              "      background-color: #E2EBFA;\n",
              "      box-shadow: 0px 1px 2px rgba(60, 64, 67, 0.3), 0px 1px 3px 1px rgba(60, 64, 67, 0.15);\n",
              "      fill: #174EA6;\n",
              "    }\n",
              "\n",
              "    [theme=dark] .colab-df-convert {\n",
              "      background-color: #3B4455;\n",
              "      fill: #D2E3FC;\n",
              "    }\n",
              "\n",
              "    [theme=dark] .colab-df-convert:hover {\n",
              "      background-color: #434B5C;\n",
              "      box-shadow: 0px 1px 3px 1px rgba(0, 0, 0, 0.15);\n",
              "      filter: drop-shadow(0px 1px 2px rgba(0, 0, 0, 0.3));\n",
              "      fill: #FFFFFF;\n",
              "    }\n",
              "  </style>\n",
              "\n",
              "      <script>\n",
              "        const buttonEl =\n",
              "          document.querySelector('#df-cbcfebf9-d2ab-47fe-8f41-f0c543ed9fad button.colab-df-convert');\n",
              "        buttonEl.style.display =\n",
              "          google.colab.kernel.accessAllowed ? 'block' : 'none';\n",
              "\n",
              "        async function convertToInteractive(key) {\n",
              "          const element = document.querySelector('#df-cbcfebf9-d2ab-47fe-8f41-f0c543ed9fad');\n",
              "          const dataTable =\n",
              "            await google.colab.kernel.invokeFunction('convertToInteractive',\n",
              "                                                     [key], {});\n",
              "          if (!dataTable) return;\n",
              "\n",
              "          const docLinkHtml = 'Like what you see? Visit the ' +\n",
              "            '<a target=\"_blank\" href=https://colab.research.google.com/notebooks/data_table.ipynb>data table notebook</a>'\n",
              "            + ' to learn more about interactive tables.';\n",
              "          element.innerHTML = '';\n",
              "          dataTable['output_type'] = 'display_data';\n",
              "          await google.colab.output.renderOutput(dataTable, element);\n",
              "          const docLink = document.createElement('div');\n",
              "          docLink.innerHTML = docLinkHtml;\n",
              "          element.appendChild(docLink);\n",
              "        }\n",
              "      </script>\n",
              "    </div>\n",
              "  </div>\n",
              "  "
            ]
          },
          "metadata": {},
          "execution_count": 48
        }
      ]
    },
    {
      "cell_type": "code",
      "source": [
        "Avocado_data.columns"
      ],
      "metadata": {
        "colab": {
          "base_uri": "https://localhost:8080/"
        },
        "id": "WwMTIt3-aDmo",
        "outputId": "b2648243-d544-4f5a-ef97-f1613c8be800"
      },
      "execution_count": null,
      "outputs": [
        {
          "output_type": "execute_result",
          "data": {
            "text/plain": [
              "Index(['Unnamed: 0', 'Date', 'AveragePrice', 'Total Volume', '4046', '4225',\n",
              "       '4770', 'Total Bags', 'Small Bags', 'Large Bags', 'XLarge Bags', 'type',\n",
              "       'year', 'region'],\n",
              "      dtype='object')"
            ]
          },
          "metadata": {},
          "execution_count": 52
        }
      ]
    },
    {
      "cell_type": "code",
      "source": [
        "group_by_size = Avocado_data.groupby(\"type\")[\"Total Volume\"].mean()\n",
        "print(group_by_size)"
      ],
      "metadata": {
        "colab": {
          "base_uri": "https://localhost:8080/"
        },
        "id": "PlCFfcxggLwS",
        "outputId": "be91e505-fafd-454b-eb22-89ac53b3ddb5"
      },
      "execution_count": null,
      "outputs": [
        {
          "output_type": "stream",
          "name": "stdout",
          "text": [
            "type\n",
            "conventional    1.653213e+06\n",
            "organic         4.781121e+04\n",
            "Name: Total Volume, dtype: float64\n"
          ]
        }
      ]
    },
    {
      "cell_type": "code",
      "source": [
        "sold_by_date = Avocado_data.groupby(\"Date\")[\"Total Bags\"].sum()\n",
        "print(sold_by_date)"
      ],
      "metadata": {
        "colab": {
          "base_uri": "https://localhost:8080/"
        },
        "id": "kJYk9NjlcdAo",
        "outputId": "49a6e972-49ab-472d-92fa-319d923a150d"
      },
      "execution_count": null,
      "outputs": [
        {
          "output_type": "stream",
          "name": "stdout",
          "text": [
            "Date\n",
            "2015-01-04    12446221.39\n",
            "2015-01-11    12374044.96\n",
            "2015-01-18    12715784.74\n",
            "2015-01-25    13153646.97\n",
            "2015-02-01    14776526.50\n",
            "                 ...     \n",
            "2018-02-25    42338670.14\n",
            "2018-03-04    40975831.43\n",
            "2018-03-11    42415959.60\n",
            "2018-03-18    45111934.39\n",
            "2018-03-25    46095895.52\n",
            "Name: Total Bags, Length: 169, dtype: float64\n"
          ]
        }
      ]
    },
    {
      "cell_type": "code",
      "source": [
        "#Plotting a line chart of the number of bags sold by date\n",
        "number_sold  = sold_by_date.plot(x= \"Total Bags\" , y=\"Date\" , kind =\"line\" , rot = \"45\")\n",
        "plt.show()\n"
      ],
      "metadata": {
        "colab": {
          "base_uri": "https://localhost:8080/",
          "height": 329
        },
        "id": "U9rnbHBTc7AT",
        "outputId": "1620e100-6cbd-4142-9543-818fcf909caa"
      },
      "execution_count": null,
      "outputs": [
        {
          "output_type": "display_data",
          "data": {
            "text/plain": [
              "<Figure size 432x288 with 1 Axes>"
            ],
            "image/png": "[encoded data removed]"
          },
          "metadata": {
            "needs_background": "light"
          }
        }
      ]
    },
    {
      "cell_type": "code",
      "source": [
        "#Correlation between the supply and price\n",
        "Avocado_data.plot(x = \"Total Bags\",  y =\"AveragePrice\",  kind =\"scatter\", title=\"Number of avocados sold vs average price\")\n",
        "plt.show()\n",
        "#Super scatter plot! It looks like when more avocados are sold, prices go down. However, this doesn't mean that fewer sales causes higher prices - we can only tell that they're correlated with each other."
      ],
      "metadata": {
        "colab": {
          "base_uri": "https://localhost:8080/",
          "height": 295
        },
        "id": "cYcYT1rFfgUS",
        "outputId": "718ad29b-8298-4a53-f34b-9386a30fec55"
      },
      "execution_count": null,
      "outputs": [
        {
          "output_type": "display_data",
          "data": {
            "text/plain": [
              "<Figure size 432x288 with 1 Axes>"
            ],
            "image/png": "[encoded data removed]"
          },
          "metadata": {
            "needs_background": "light"
          }
        }
      ]
    },
    {
      "cell_type": "code",
      "source": [
        "#Price of conventional vs. organic avocados\n",
        "# Histogram of conventional avg_price\n",
        "Avocado_data[Avocado_data[\"type\"] == \"conventional\"][\"AveragePrice\"].hist(alpha=0.5,bins=20)\n",
        "Avocado_data[Avocado_data[\"type\"] == \"organic\"][\"AveragePrice\"].hist(alpha=0.5,bins=20)\n",
        "plt.legend([\"conventional\",\"organic\"])\n",
        "plt.show()\n",
        "#Great layering! We can see that on average, organic avocados are more expensive than conventional ones, but their price distributions have some overlap."
      ],
      "metadata": {
        "colab": {
          "base_uri": "https://localhost:8080/",
          "height": 265
        },
        "id": "kqsVtNHejNVO",
        "outputId": "80c88579-2328-4db2-98ab-bec25144395e"
      },
      "execution_count": null,
      "outputs": [
        {
          "output_type": "display_data",
          "data": {
            "text/plain": [
              "<Figure size 432x288 with 1 Axes>"
            ],
            "image/png": "[encoded data removed]"
          },
          "metadata": {
            "needs_background": "light"
          }
        }
      ]
    },
    {
      "cell_type": "markdown",
      "source": [
        "**Missing values**\n",
        "1.   We use isna() , that returns a boolens false(no missing value) and true for missing value\n",
        "2. isna().any -shows the values and isna().sum() gives a count of the missing values\n",
        "Rove rows of the missing values using .dropna()\n",
        "Replace missing values with 0 --fillna(0)"
      ],
      "metadata": {
        "id": "acbzHecKp5dY"
      }
    },
    {
      "cell_type": "code",
      "source": [
        "#Geeting visibiliy on the missing values\n",
        "Avocado_data.isna().any()"
      ],
      "metadata": {
        "colab": {
          "base_uri": "https://localhost:8080/"
        },
        "id": "sgRkmkfbsYku",
        "outputId": "03cb70f3-8355-4430-a138-bbc7a021ff0a"
      },
      "execution_count": null,
      "outputs": [
        {
          "output_type": "execute_result",
          "data": {
            "text/plain": [
              "Unnamed: 0      False\n",
              "Date            False\n",
              "AveragePrice    False\n",
              "Total Volume    False\n",
              "4046            False\n",
              "4225            False\n",
              "4770            False\n",
              "Total Bags      False\n",
              "Small Bags      False\n",
              "Large Bags      False\n",
              "XLarge Bags     False\n",
              "type            False\n",
              "year            False\n",
              "region          False\n",
              "dtype: bool"
            ]
          },
          "metadata": {},
          "execution_count": 71
        }
      ]
    },
    {
      "cell_type": "code",
      "source": [
        "#plot of the missing values\n",
        "Avocado_data.isna().sum().plot(kind=\"bar\")\n",
        "plt.show()"
      ],
      "metadata": {
        "colab": {
          "base_uri": "https://localhost:8080/",
          "height": 321
        },
        "id": "b6HKP18psrYs",
        "outputId": "7c1d9d9b-f593-4fd2-fb2a-6a1ef7f86c66"
      },
      "execution_count": null,
      "outputs": [
        {
          "output_type": "display_data",
          "data": {
            "text/plain": [
              "<Figure size 432x288 with 1 Axes>"
            ],
            "image/png": "[encoded data removed]"
          },
          "metadata": {
            "needs_background": "light"
          }
        }
      ]
    },
    {
      "cell_type": "code",
      "source": [
        "cols =[\"Small Bags\",\"Large Bags\",\"XLarge Bags\"]\n",
        "Avocado_data[cols].hist()\n",
        "plt.show()"
      ],
      "metadata": {
        "colab": {
          "base_uri": "https://localhost:8080/",
          "height": 281
        },
        "id": "PKxmUNL0xjh0",
        "outputId": "a0105618-1de9-4e59-e8e8-049e54629916"
      },
      "execution_count": null,
      "outputs": [
        {
          "output_type": "display_data",
          "data": {
            "text/plain": [
              "<Figure size 432x288 with 4 Axes>"
            ],
            "image/png": "[encoded data removed]"
          },
          "metadata": {
            "needs_background": "light"
          }
        }
      ]
    },
    {
      "cell_type": "markdown",
      "source": [
        "**Creating dictionaries**"
      ],
      "metadata": {
        "id": "4ZsUDN3_4AZc"
      }
    },
    {
      "cell_type": "code",
      "source": [
        "#List of dictionaries:Constructed by row by row\n",
        "Agentshistory = [\n",
        "    {\"Name\":\"Alex\", \"Location\":\"Kampala\", \"Quantity\":25 , \"Price\":2000},{\"Name\":\"Tom\", \"Location\":\"Jinja\", \"Quantity\":15 , \"Price\":1000}\n",
        "]\n",
        "Dataset = pd.DataFrame(Agentshistory)\n",
        "print(Dataset)"
      ],
      "metadata": {
        "colab": {
          "base_uri": "https://localhost:8080/"
        },
        "id": "LbI2XdF74EPT",
        "outputId": "bb16fcf9-b1da-4a8b-db00-149fae4ec68e"
      },
      "execution_count": null,
      "outputs": [
        {
          "output_type": "stream",
          "name": "stdout",
          "text": [
            "   Name Location  Quantity  Price\n",
            "0  Alex  Kampala        25   2000\n",
            "1   Tom    Jinja        15   1000\n"
          ]
        }
      ]
    },
    {
      "cell_type": "code",
      "source": [
        "#Dictionaries of lists: Constructed column by column\n",
        "Agenthistory = {\n",
        "    \"Name\": [\"Alex\", \"Tom\"],\n",
        "    \"Location\": [\"Kampala\", \"Jinja\"],\n",
        "}\n",
        "Dataset = pd.DataFrame(Agenthistory)\n",
        "print(Dataset)\n"
      ],
      "metadata": {
        "colab": {
          "base_uri": "https://localhost:8080/"
        },
        "id": "33But-dc8aXG",
        "outputId": "c26bbaa9-d8e8-4282-ef96-913855cc4e75"
      },
      "execution_count": null,
      "outputs": [
        {
          "output_type": "stream",
          "name": "stdout",
          "text": [
            "   Name Location\n",
            "0  Alex  Kampala\n",
            "1   Tom    Jinja\n"
          ]
        }
      ]
    },
    {
      "cell_type": "code",
      "source": [
        "Dataset[\"TotalPrice\"] = Dataset[\"Quantity\"] * Dataset[\"Price\"]\n",
        "print(Dataset)"
      ],
      "metadata": {
        "colab": {
          "base_uri": "https://localhost:8080/"
        },
        "id": "hi0vb05FBkIT",
        "outputId": "885df134-da91-4db4-df6b-a3adc8bf1787"
      },
      "execution_count": null,
      "outputs": [
        {
          "output_type": "stream",
          "name": "stdout",
          "text": [
            "   Name Location  Quantity  Price  TotalPrice\n",
            "0  Alex  Kampala        25   2000       50000\n",
            "1   Tom    Jinja        15   1000       15000\n"
          ]
        }
      ]
    },
    {
      "cell_type": "code",
      "source": [
        "#Changing dataframe to  csv\n",
        "Dataset.to_csv(\"Dataset.csv\")\n"
      ],
      "metadata": {
        "id": "5IbhiBpaC0_c"
      },
      "execution_count": null,
      "outputs": []
    },
    {
      "cell_type": "code",
      "source": [
        "# Make a list of cities to subset on\n",
        "cities = [\"Moscow\", \"Saint Petersburg\"]\n",
        "\n",
        "# Subset temperatures using square brackets\n",
        "print(temperatures[temperatures[\"city\"].isin(cities)])\n",
        "\n",
        "# Subset temperatures_ind using .loc[]\n",
        "print(temperatures_ind.loc[cities])\n",
        "#Multiple indexes\n",
        "# Index temperatures by country & city\n",
        "temperatures_ind = temperatures.set_index([\"country\", \"city\"])\n",
        "\n",
        "# List of tuples: Brazil, Rio De Janeiro & Pakistan, Lahore\n",
        "rows_to_keep = [(\"Brazil\", \"Rio De Janeiro\"),(\"Pakistan\", \"Lahore\")]\n",
        "\n",
        "# Subset for rows to keep\n",
        "print(temperatures_ind.loc[rows_to_keep])"
      ],
      "metadata": {
        "id": "SSUTA_hXV5Xd"
      },
      "execution_count": null,
      "outputs": []
    },
    {
      "cell_type": "code",
      "source": [
        "#Sorting indexes\n",
        "# Sort temperatures_ind by index values\n",
        "print(temperatures_ind.sort_index())\n",
        "\n",
        "# Sort temperatures_ind by index values at the city level\n",
        "print(temperatures_ind.sort_index(level=\"city\"))\n",
        "\n",
        "# Sort temperatures_ind by country then descending city\n",
        "print(temperatures_ind.sort_index(level=[\"country\", \"city\"], ascending = [True, False]))"
      ],
      "metadata": {
        "id": "HouhUN_tgG2R"
      },
      "execution_count": null,
      "outputs": []
    },
    {
      "cell_type": "markdown",
      "source": [
        "Slicing and subsetting with loc and .iloc\n",
        "[2:5] --the value for the first index is included and the other last value is not included in the result"
      ],
      "metadata": {
        "id": "UaGH-LbGjrXI"
      }
    },
    {
      "cell_type": "code",
      "source": [
        "#slicing columns -means keeps both columns indicated by the indice value"
      ],
      "metadata": {
        "id": "jhpFQnEpjq1Y"
      },
      "execution_count": null,
      "outputs": []
    }
  ]
}